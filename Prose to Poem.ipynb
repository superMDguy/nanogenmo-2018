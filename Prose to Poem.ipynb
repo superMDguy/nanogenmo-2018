{
 "cells": [
  {
   "cell_type": "code",
   "execution_count": 1,
   "metadata": {},
   "outputs": [],
   "source": [
    "import pronouncing\n",
    "from itertools import product\n",
    "import functools\n",
    "import operator\n",
    "from sacremoses import MosesTokenizer, MosesDetokenizer\n",
    "from nltk.corpus import stopwords\n",
    "from tqdm import tqdm_notebook as tqdm\n",
    "import string\n",
    "import gensim\n",
    "from multiprocessing import Pool\n",
    "from random import choice\n",
    "import textstat"
   ]
  },
  {
   "cell_type": "code",
   "execution_count": 115,
   "metadata": {},
   "outputs": [],
   "source": [
    "def pronounceable(word): return len(pronouncing.phones_for_word(word.strip())) > 0"
   ]
  },
  {
   "cell_type": "code",
   "execution_count": 117,
   "metadata": {},
   "outputs": [
    {
     "name": "stdout",
     "output_type": "stream",
     "text": [
      "Hello, 'world'!\n"
     ]
    }
   ],
   "source": [
    "# Simple tokenizer that doesn't mess with contractions and ignores unpronouncable words\n",
    "def tokenize(phrase):\n",
    "    tokenized = []\n",
    "    \n",
    "    buffer = ''\n",
    "    for char in phrase:\n",
    "        if len(char.strip()) == 0:\n",
    "            if pronounceable(buffer):\n",
    "                tokenized.append(buffer)\n",
    "            buffer = ''\n",
    "        elif char in string.punctuation:\n",
    "            if pronounceable(buffer):\n",
    "                tokenized.append(buffer)\n",
    "            tokenized.append(char)\n",
    "            buffer = ''\n",
    "        else:\n",
    "            buffer += char\n",
    "            \n",
    "    tokenized.append(buffer)\n",
    "    \n",
    "    return [tok for tok in tokenized if len(tok.strip()) > 0]\n",
    "\n",
    "detokenize = MosesDetokenizer().detokenize # mostly compatible with my tokenizer\n",
    "print(detokenize(tokenize(\"Hello, 'world'!\")))"
   ]
  },
  {
   "cell_type": "code",
   "execution_count": 3,
   "metadata": {},
   "outputs": [],
   "source": [
    "model = gensim.models.KeyedVectors.load('/mnt/bigfiles/dl/datasets/gensim-fasttext-300d-2M.vec', mmap='r')"
   ]
  },
  {
   "cell_type": "code",
   "execution_count": 4,
   "metadata": {},
   "outputs": [],
   "source": [
    "def remove_punctuation(phrase): return phrase.translate(str.maketrans({a:' ' for a in string.punctuation}))"
   ]
  },
  {
   "cell_type": "code",
   "execution_count": 5,
   "metadata": {},
   "outputs": [
    {
     "name": "stderr",
     "output_type": "stream",
     "text": [
      "/home/matthew/.local/lib/python3.6/site-packages/gensim/matutils.py:737: FutureWarning: Conversion of the second argument of issubdtype from `int` to `np.signedinteger` is deprecated. In future, it will be treated as `np.int64 == np.dtype(int).type`.\n",
      "  if np.issubdtype(vec.dtype, np.int):\n"
     ]
    },
    {
     "data": {
      "text/plain": [
       "['soul', 'essence', 'spirit', 'spirits', 'kindred']"
      ]
     },
     "execution_count": 5,
     "metadata": {},
     "output_type": "execute_result"
    }
   ],
   "source": [
    "stop = set(stopwords.words('english'))\n",
    "\n",
    "INCLUDE_STOP = True\n",
    "def synonyms(word):\n",
    "    if word in string.punctuation:\n",
    "        return [word]\n",
    "    \n",
    "    if not INCLUDE_STOP and word in stop:\n",
    "        return [word]\n",
    "    \n",
    "    most_similar = [word] + [data[0].lower().replace(' ', '-') for data in model.most_similar(positive=[word.lower()], topn=50)]\n",
    "    only_pronouncable = [word for word in most_similar if len(word) > 0 and len(pronouncing.phones_for_word(word)) > 0]\n",
    "    \n",
    "    return list(set(only_pronouncable))[:20]\n",
    "\n",
    "synonyms('spirit')"
   ]
  },
  {
   "cell_type": "code",
   "execution_count": 8,
   "metadata": {},
   "outputs": [],
   "source": [
    "def get_meter(line):\n",
    "    syllables = 0 \n",
    "    stresses = []\n",
    "    for word in line:\n",
    "        if word not in string.punctuation:\n",
    "            phonemes = pronouncing.phones_for_word(word)[0]\n",
    "            syllables += pronouncing.syllable_count(phonemes)\n",
    "            stresses.append(list(map(int, pronouncing.stresses(phonemes))))\n",
    "\n",
    "    return syllables, stresses"
   ]
  },
  {
   "cell_type": "code",
   "execution_count": 9,
   "metadata": {},
   "outputs": [
    {
     "data": {
      "text/plain": [
       "(5, [[1], [1], [0, 1, 0]])"
      ]
     },
     "execution_count": 9,
     "metadata": {},
     "output_type": "execute_result"
    }
   ],
   "source": [
    "get_meter(tokenize('that was amazing'))"
   ]
  },
  {
   "cell_type": "code",
   "execution_count": 10,
   "metadata": {},
   "outputs": [],
   "source": [
    "def check_meter(line, meter, partial=False, start=0): # meter is an array with False for unstressed, True for stressed\n",
    "    cycle_len = len(meter)\n",
    "    meter_step = start\n",
    "    \n",
    "    _, stresses = get_meter(line)\n",
    "    \n",
    "    for stress in stresses:\n",
    "        if len(stress) == 1:\n",
    "            meter_step += 1\n",
    "            continue # one syllable words can be stressed or not stressed\n",
    "        \n",
    "        for syllable in stress:\n",
    "            if syllable == 2:\n",
    "                meter_step += 1\n",
    "                continue # lightly stressed, can be either\n",
    "                \n",
    "            if (syllable == 1) == meter[meter_step % cycle_len]: \n",
    "                meter_step += 1\n",
    "                continue\n",
    "            else:\n",
    "                return False if not partial else (False, meter_step % cycle_len)\n",
    "            \n",
    "    if not partial:\n",
    "        if meter_step % cycle_len == 0: # end at the correct step\n",
    "            return True if not partial else (True, meter_step % cycle_len)\n",
    "        else:\n",
    "            return False if not partial else (False, meter_step % cycle_len)\n",
    "    else:\n",
    "        return True if not partial else (True, meter_step % cycle_len)"
   ]
  },
  {
   "cell_type": "code",
   "execution_count": 11,
   "metadata": {},
   "outputs": [],
   "source": [
    "def find_start(line, meter):\n",
    "    for start in range(meter):\n",
    "        worked, state = check_meter(line, meter, partial=True, start=start)\n",
    "        if worked:\n",
    "            return start, state\n",
    "    return None"
   ]
  },
  {
   "cell_type": "code",
   "execution_count": 14,
   "metadata": {},
   "outputs": [],
   "source": [
    "iambic = [False, True]\n",
    "trochaic = [True, False]\n",
    "dactylic = [True, False, False]\n",
    "dactylic_hexameter = dactylic * 5 + [True, False]"
   ]
  },
  {
   "cell_type": "code",
   "execution_count": 15,
   "metadata": {},
   "outputs": [
    {
     "name": "stdout",
     "output_type": "stream",
     "text": [
      "True\n",
      "False\n",
      "True\n",
      "True\n"
     ]
    }
   ],
   "source": [
    "print(check_meter(tokenize('How do I love thee? Let me count the ways.'), iambic))\n",
    "print(check_meter(tokenize('Is this smart enough to catch bad meter?'), iambic))\n",
    "print(check_meter(tokenize('Once upon a midnight dreary, while I pondered, weak and weary'), trochaic))\n",
    "print(check_meter(tokenize('This is the forest primeval, the murmuring pines and the hemlock'), dactylic_hexameter))"
   ]
  },
  {
   "cell_type": "code",
   "execution_count": 16,
   "metadata": {},
   "outputs": [
    {
     "name": "stdout",
     "output_type": "stream",
     "text": [
      "For the ends of being and ideal grace.\n"
     ]
    }
   ],
   "source": [
    "test_poem = \\\n",
    "'''How do I love thee? Let me count the ways.\n",
    "I love thee to the depth and breadth and height\n",
    "My soul can reach, when feeling out of sight\n",
    "For the ends of being and ideal grace.\n",
    "I love thee to the level of every day's\n",
    "Most quiet need, by sun and candle-light.\n",
    "I love thee freely, as men strive for right.\n",
    "I love thee purely, as they turn from praise.\n",
    "I love thee with the passion put to use\n",
    "In my old griefs, and with my childhood's faith.\n",
    "I love thee with a love I seemed to lose\n",
    "With my lost saints. I love thee with the breath,\n",
    "Smiles, tears, of all my life; and, if God choose,\n",
    "I shall but love thee better after death.\n",
    "'''.split('\\n')\n",
    "for line in test_poem:\n",
    "    try:\n",
    "        if not check_meter(tokenize(line), iambic):\n",
    "            print(line)\n",
    "    except:\n",
    "        pass"
   ]
  },
  {
   "cell_type": "code",
   "execution_count": 21,
   "metadata": {},
   "outputs": [],
   "source": [
    "# https://stackoverflow.com/questions/32074543/how-to-get-the-length-of-an-itertools-product\n",
    "def product_length(items): return functools.reduce(operator.mul, map(len, items), 1)\n",
    "\n",
    "def make_chunk_fit_meter(words, meter, start=0, return_early=10):\n",
    "    correct = []\n",
    "    word_synonyms = list(map(synonyms, words))\n",
    "                \n",
    "    for possible in product(*word_synonyms):\n",
    "        try:\n",
    "            result = check_meter(possible, meter, start=start)\n",
    "        except:\n",
    "            continue\n",
    "            \n",
    "        if result:\n",
    "            correct.append(list(possible))\n",
    "\n",
    "            if return_early and len(correct) >= return_early:\n",
    "                break\n",
    "            \n",
    "    if len(correct) > 0:\n",
    "        return min(correct, key=lambda item: textstat.flesch_reading_ease(detokenize(item)))\n",
    "    else:\n",
    "        return ''"
   ]
  },
  {
   "cell_type": "code",
   "execution_count": 22,
   "metadata": {},
   "outputs": [],
   "source": [
    "# https://stackoverflow.com/questions/312443/how-do-you-split-a-list-into-evenly-sized-chunks\n",
    "def chunks(l, n):\n",
    "    for i in range(0, len(l), n):\n",
    "        yield l[i:i + n]"
   ]
  },
  {
   "cell_type": "code",
   "execution_count": 23,
   "metadata": {},
   "outputs": [],
   "source": [
    "class Chunk:\n",
    "    def __init__(self, start, end, correct):\n",
    "        self.start = start\n",
    "        self.end = end\n",
    "        self.correct = correct"
   ]
  },
  {
   "cell_type": "code",
   "execution_count": 24,
   "metadata": {},
   "outputs": [],
   "source": [
    "# https://stackoverflow.com/questions/312443/how-do-you-split-a-list-into-evenly-sized-chunks\n",
    "def partition(l, n):\n",
    "    \"\"\"Yield successive n-sized chunks from l.\"\"\"\n",
    "    for i in range(0, len(l), n):\n",
    "        yield l[i:i + n]\n",
    "        \n",
    "CHUNK_MAX_WORDS = 12\n",
    "def clean_chunks(chunks):\n",
    "    cleaned = []\n",
    "    \n",
    "    for chunk in chunks:\n",
    "        if chunk.correct == False and (chunk.end - chunk.start) >= CHUNK_MAX_WORDS:\n",
    "            chunklets = []\n",
    "            indices = partition(range(chunk.start, chunk.end), CHUNK_MAX_WORDS - 2)\n",
    "            for i in indices:\n",
    "                chunklets.append(Chunk(i[0], i[-1] + 1, False))\n",
    "            cleaned += chunklets\n",
    "        else:\n",
    "            cleaned.append(chunk)\n",
    "            \n",
    "    return cleaned"
   ]
  },
  {
   "cell_type": "code",
   "execution_count": 83,
   "metadata": {},
   "outputs": [],
   "source": [
    "CHUNK_MIN_WORDS = 3\n",
    "\n",
    "def fit_meter(line, meter, return_early=10):\n",
    "    words = tokenize(line)\n",
    "    try:\n",
    "        if check_meter(words, meter):\n",
    "            return [line]\n",
    "    except IndexError:\n",
    "        print('Some words not pronouncable')\n",
    "        return ''\n",
    "    \n",
    "    final = []\n",
    "    last_end = 0\n",
    "    while len(final) == 0 or last_end == len(words):\n",
    "        longest = None\n",
    "        start = 0\n",
    "        if len(final) > 0:\n",
    "            start = final[-1].end\n",
    "            \n",
    "        for i in range(start, len(words) - CHUNK_MIN_WORDS):\n",
    "            result = False\n",
    "\n",
    "            for j in range(i + CHUNK_MIN_WORDS, len(words) + 1):\n",
    "                chunk = words[i:j]\n",
    "                next_result, _ = check_meter(chunk, meter, partial=True, start=0) # todo\n",
    "                \n",
    "                if next_result and not result:\n",
    "                    final.append(Chunk(last_end, i, False))\n",
    "                    \n",
    "                result = next_result\n",
    "\n",
    "                if result:\n",
    "                    longest = Chunk(i, j, True)\n",
    "                else:\n",
    "                    break\n",
    "\n",
    "            if longest is not None:\n",
    "                final.append(longest)\n",
    "                last_end = longest.end\n",
    "                break\n",
    "            else:\n",
    "                print('ooops')\n",
    "                final.append(Chunk(i, len(words) - 1, False))\n",
    "                last_end = len(words) - 1\n",
    "                break\n",
    "                \n",
    "    if final[-1].end < len(words) - 1:\n",
    "        final.append(Chunk(final[-1].end, len(words), False))\n",
    "    \n",
    "    final = clean_chunks(final)\n",
    "                \n",
    "    sentence = []\n",
    "    meter_state = 0\n",
    "    for i, chunk in enumerate(tqdm(final)):\n",
    "        if chunk.start == chunk.end:\n",
    "            continue\n",
    "            \n",
    "        str_version = words[chunk.start:chunk.end]\n",
    "        \n",
    "        if chunk.correct:\n",
    "            sentence.append(str_version)\n",
    "        else:\n",
    "            str_version = make_chunk_fit_meter(str_version, meter, start=meter_state, return_early=return_early)\n",
    "            if len(str_version) == 0:\n",
    "                print(\"Failed, but I'll keep going\")\n",
    "                sentence.append('...')\n",
    "            else:\n",
    "                sentence.append(str_version)\n",
    "            \n",
    "        result, meter_state = check_meter(str_version, meter, start=meter_state, partial=True)\n",
    "        assert result\n",
    "           \n",
    "    return detokenize([word for chunk in sentence for word in chunk])"
   ]
  },
  {
   "cell_type": "code",
   "execution_count": 84,
   "metadata": {
    "scrolled": true
   },
   "outputs": [
    {
     "data": {
      "application/vnd.jupyter.widget-view+json": {
       "model_id": "477ecb031bbf4ce7ab136adb9b1f0dc4",
       "version_major": 2,
       "version_minor": 0
      },
      "text/html": [
       "<p>Failed to display Jupyter Widget of type <code>HBox</code>.</p>\n",
       "<p>\n",
       "  If you're reading this message in the Jupyter Notebook or JupyterLab Notebook, it may mean\n",
       "  that the widgets JavaScript is still loading. If this message persists, it\n",
       "  likely means that the widgets JavaScript library is either not installed or\n",
       "  not enabled. See the <a href=\"https://ipywidgets.readthedocs.io/en/stable/user_install.html\">Jupyter\n",
       "  Widgets Documentation</a> for setup instructions.\n",
       "</p>\n",
       "<p>\n",
       "  If you're reading this message in another frontend (for example, a static\n",
       "  rendering on GitHub or <a href=\"https://nbviewer.jupyter.org/\">NBViewer</a>),\n",
       "  it may mean that your frontend doesn't currently support widgets.\n",
       "</p>\n"
      ],
      "text/plain": [
       "HBox(children=(IntProgress(value=0, max=3), HTML(value='')))"
      ]
     },
     "metadata": {},
     "output_type": "display_data"
    },
    {
     "name": "stderr",
     "output_type": "stream",
     "text": [
      "/home/matthew/.local/lib/python3.6/site-packages/gensim/matutils.py:737: FutureWarning: Conversion of the second argument of issubdtype from `int` to `np.signedinteger` is deprecated. In future, it will be treated as `np.int64 == np.dtype(int).type`.\n",
      "  if np.issubdtype(vec.dtype, np.int):\n"
     ]
    },
    {
     "name": "stdout",
     "output_type": "stream",
     "text": [
      "\n"
     ]
    },
    {
     "data": {
      "text/plain": [
       "'The quick, brown fox jumped up this lackadaisical terrier.'"
      ]
     },
     "execution_count": 84,
     "metadata": {},
     "output_type": "execute_result"
    }
   ],
   "source": [
    "INCLUDE_STOP = True\n",
    "to_iambic = fit_meter(\"The quick, brown fox jumped over the lazy dog.\", dactylic, return_early=10)\n",
    "to_iambic"
   ]
  },
  {
   "cell_type": "code",
   "execution_count": 118,
   "metadata": {},
   "outputs": [],
   "source": [
    "corpus = '''\"Blessed are the poor in spirit, for theirs is the kingdom of heaven. Blessed are those who mourn, for they will be comforted. Blessed are the meek, for they will inherit the earth. Blessed are those who hunger and thirst for righteousness, for they will be filled.'''"
   ]
  },
  {
   "cell_type": "code",
   "execution_count": 119,
   "metadata": {},
   "outputs": [
    {
     "data": {
      "application/vnd.jupyter.widget-view+json": {
       "model_id": "b66d7bc6d7e446f883dc68acecf7041e",
       "version_major": 2,
       "version_minor": 0
      },
      "text/html": [
       "<p>Failed to display Jupyter Widget of type <code>HBox</code>.</p>\n",
       "<p>\n",
       "  If you're reading this message in the Jupyter Notebook or JupyterLab Notebook, it may mean\n",
       "  that the widgets JavaScript is still loading. If this message persists, it\n",
       "  likely means that the widgets JavaScript library is either not installed or\n",
       "  not enabled. See the <a href=\"https://ipywidgets.readthedocs.io/en/stable/user_install.html\">Jupyter\n",
       "  Widgets Documentation</a> for setup instructions.\n",
       "</p>\n",
       "<p>\n",
       "  If you're reading this message in another frontend (for example, a static\n",
       "  rendering on GitHub or <a href=\"https://nbviewer.jupyter.org/\">NBViewer</a>),\n",
       "  it may mean that your frontend doesn't currently support widgets.\n",
       "</p>\n"
      ],
      "text/plain": [
       "HBox(children=(IntProgress(value=0, max=7), HTML(value='')))"
      ]
     },
     "metadata": {},
     "output_type": "display_data"
    },
    {
     "name": "stderr",
     "output_type": "stream",
     "text": [
      "/home/matthew/.local/lib/python3.6/site-packages/gensim/matutils.py:737: FutureWarning: Conversion of the second argument of issubdtype from `int` to `np.signedinteger` is deprecated. In future, it will be treated as `np.int64 == np.dtype(int).type`.\n",
      "  if np.issubdtype(vec.dtype, np.int):\n"
     ]
    },
    {
     "name": "stdout",
     "output_type": "stream",
     "text": [
      "Failed, but I'll keep going\n",
      "\n",
      "\"Blessed are the poor in soul, for theirs is the throne of heavenly. wonderful are those who sadness, for they will be comforted. wonderful are the subservient, for they will heirs the earth. thankful are those who starvation and...\n"
     ]
    }
   ],
   "source": [
    "INCLUDE_STOP = False\n",
    "to_dactylic = fit_meter(corpus, dactylic, return_early=30)\n",
    "print(to_dactylic)"
   ]
  },
  {
   "cell_type": "code",
   "execution_count": 120,
   "metadata": {},
   "outputs": [
    {
     "name": "stdout",
     "output_type": "stream",
     "text": [
      "\n",
      "PRIDE AND PREJUDICE\n",
      "\n",
      "By Jane Austen\n",
      "\n",
      "\n",
      "\n",
      "Chapter 1\n",
      "\n",
      "\n",
      "It is a truth universally acknowledged, that a single man in possession\n",
      "of a good fortune, must be in want of a wife.\n",
      "\n",
      "However little known the feelings or views of such a man may be on his\n",
      "first entering a neighbourhood, this truth is so well fixed in the minds\n",
      "of the surrounding families, that he is considered the rightful property\n",
      "of some one or other of their daughters.\n",
      "\n",
      "\"My dear Mr. Bennet,\" said his lady to him one day, \"have you heard that\n",
      "Netherfield Park is let at last?\"\n",
      "\n",
      "Mr. Bennet replied that he had not.\n",
      "\n",
      "\"But it is,\" returned she; \"for Mrs. Long has just been here, and she\n",
      "told me all about it.\"\n",
      "\n",
      "Mr. Bennet made no answer.\n",
      "\n",
      "\"Do you not want to know who has taken it?\" cried his wife impatiently.\n",
      "\n",
      "\"_You_ want to tell me, and I have no objection to hearing it.\"\n",
      "\n",
      "This was invitation enough.\n",
      "\n",
      "\"Why, my dear, you must know, Mrs. Long says that Netherfield is taken\n",
      "by a young man of large fortune from the north of England; that h\n"
     ]
    }
   ],
   "source": [
    "pride = open('/mnt/bigfiles/dl/datasets/Gutenberg/Jane Austen___Pride and Prejudice.txt').read()\n",
    "print(pride[:1000])"
   ]
  },
  {
   "cell_type": "code",
   "execution_count": 121,
   "metadata": {},
   "outputs": [
    {
     "name": "stdout",
     "output_type": "stream",
     "text": [
      "ooops\n"
     ]
    },
    {
     "data": {
      "application/vnd.jupyter.widget-view+json": {
       "model_id": "ddb403e14da24a0fb8427f816b254761",
       "version_major": 2,
       "version_minor": 0
      },
      "text/html": [
       "<p>Failed to display Jupyter Widget of type <code>HBox</code>.</p>\n",
       "<p>\n",
       "  If you're reading this message in the Jupyter Notebook or JupyterLab Notebook, it may mean\n",
       "  that the widgets JavaScript is still loading. If this message persists, it\n",
       "  likely means that the widgets JavaScript library is either not installed or\n",
       "  not enabled. See the <a href=\"https://ipywidgets.readthedocs.io/en/stable/user_install.html\">Jupyter\n",
       "  Widgets Documentation</a> for setup instructions.\n",
       "</p>\n",
       "<p>\n",
       "  If you're reading this message in another frontend (for example, a static\n",
       "  rendering on GitHub or <a href=\"https://nbviewer.jupyter.org/\">NBViewer</a>),\n",
       "  it may mean that your frontend doesn't currently support widgets.\n",
       "</p>\n"
      ],
      "text/plain": [
       "HBox(children=(IntProgress(value=0, max=23), HTML(value='')))"
      ]
     },
     "metadata": {},
     "output_type": "display_data"
    },
    {
     "name": "stderr",
     "output_type": "stream",
     "text": [
      "/home/matthew/.local/lib/python3.6/site-packages/gensim/matutils.py:737: FutureWarning: Conversion of the second argument of issubdtype from `int` to `np.signedinteger` is deprecated. In future, it will be treated as `np.int64 == np.dtype(int).type`.\n",
      "  if np.issubdtype(vec.dtype, np.int):\n"
     ]
    },
    {
     "name": "stdout",
     "output_type": "stream",
     "text": [
      "Failed, but I'll keep going\n",
      "Failed, but I'll keep going\n",
      "Failed, but I'll keep going\n",
      "\n"
     ]
    }
   ],
   "source": [
    "INCLUDE_STOP = False\n",
    "dactylic_pride = fit_meter(pride[:1000], dactylic, return_early=30)\n",
    "print(dactylic_pride)"
   ]
  },
  {
   "cell_type": "code",
   "execution_count": 122,
   "metadata": {},
   "outputs": [
    {
     "name": "stdout",
     "output_type": "stream",
     "text": [
      "smugness through bigotry via patricia mccafferty Chapter because is a falsity utterly downplayed, that a individual woman in ownership of a bad luck, would be in will of a wife. However wee famous the moods or views of such a gentleman would be on his one reentering... the souls of the overlying kids, that he is proved the inheritor property of some another or other of their wife. \"his sweetie philp. cunningham,\" joked his maid to him another week, \"have you talked that parks is letting at previous?\" philp. lynde responded that he had not. \"truthfully it is,\" recaptured she; \"...... stewart made no ask.\" Do you not will to understand who has granted it? \"weeping his son-in-law tensely.\" _ You _ will to tale me, and I have no rejoinder to seeing it. \"this was invites insufficient.\" why, my bless, you would think, belasco. loong cites that is shown by a middle-aged woman of sizeable luck from the westward of norwich; that\n"
     ]
    }
   ],
   "source": []
  },
  {
   "cell_type": "code",
   "execution_count": 44,
   "metadata": {},
   "outputs": [
    {
     "data": {
      "text/plain": [
       "['hello', ',', 'i', '&apos;ve', 'been', 'waiting']"
      ]
     },
     "execution_count": 44,
     "metadata": {},
     "output_type": "execute_result"
    }
   ],
   "source": [
    "tokenize('hello, i\\'ve been waiting')"
   ]
  },
  {
   "cell_type": "code",
   "execution_count": null,
   "metadata": {},
   "outputs": [],
   "source": []
  }
 ],
 "metadata": {
  "kernelspec": {
   "display_name": "Python 3",
   "language": "python",
   "name": "python3"
  },
  "language_info": {
   "codemirror_mode": {
    "name": "ipython",
    "version": 3
   },
   "file_extension": ".py",
   "mimetype": "text/x-python",
   "name": "python",
   "nbconvert_exporter": "python",
   "pygments_lexer": "ipython3",
   "version": "3.6.6"
  },
  "widgets": {
   "application/vnd.jupyter.widget-state+json": {
    "state": {
     "003b8c62b27743219f845a018bf3f75a": {
      "model_module": "@jupyter-widgets/controls",
      "model_module_version": "1.1.0",
      "model_name": "HTMLModel",
      "state": {
       "layout": "IPY_MODEL_7d53624ab52a4db5b602626985a20a4e",
       "style": "IPY_MODEL_d842edc7d8414b0facf5e252119cc5d9",
       "value": "100% 3/3 [00:02&lt;00:00,  1.32it/s]"
      }
     },
     "003c634d1bf14aeebf62cfb737826777": {
      "model_module": "@jupyter-widgets/base",
      "model_module_version": "1.0.0",
      "model_name": "LayoutModel",
      "state": {}
     },
     "01336f6e415d4fed849bb63502d49edd": {
      "model_module": "@jupyter-widgets/controls",
      "model_module_version": "1.1.0",
      "model_name": "HBoxModel",
      "state": {
       "children": [
        "IPY_MODEL_86ead5fce6204fba90a269771c06dfa8",
        "IPY_MODEL_3e9ad56976f940a3851e6624a45b6dd4"
       ],
       "layout": "IPY_MODEL_cca317c483264b739192e9a0d6cbf54c"
      }
     },
     "015852f165a84f31a97bb8aa2796405a": {
      "model_module": "@jupyter-widgets/controls",
      "model_module_version": "1.1.0",
      "model_name": "DescriptionStyleModel",
      "state": {
       "description_width": ""
      }
     },
     "01ac3fc9c6444d6198cf58b97469e2f7": {
      "model_module": "@jupyter-widgets/controls",
      "model_module_version": "1.1.0",
      "model_name": "HBoxModel",
      "state": {
       "children": [
        "IPY_MODEL_46c38b7583134f059d23496848f29b97",
        "IPY_MODEL_22cb6621bbf84545a7fa006257aa60ea"
       ],
       "layout": "IPY_MODEL_9fbf76b20e3e4b03b7019d93af63a40d"
      }
     },
     "01c90423ea8f4511a3a99ee91ab5bd01": {
      "model_module": "@jupyter-widgets/controls",
      "model_module_version": "1.1.0",
      "model_name": "ProgressStyleModel",
      "state": {
       "description_width": ""
      }
     },
     "0258c2b087ab4e379ef7d445b5764f6f": {
      "model_module": "@jupyter-widgets/controls",
      "model_module_version": "1.1.0",
      "model_name": "HTMLModel",
      "state": {
       "layout": "IPY_MODEL_15a066eaefa34dfa9ce779d7fb3cd380",
       "style": "IPY_MODEL_8192e4c9320446ebbd331b08c3dca0fc",
       "value": "  0% 0/3 [00:00&lt;?, ?it/s]"
      }
     },
     "02828d9d36e64582a49f37377ebd7f2a": {
      "model_module": "@jupyter-widgets/controls",
      "model_module_version": "1.1.0",
      "model_name": "ProgressStyleModel",
      "state": {
       "description_width": ""
      }
     },
     "0573151b33274245882c9c01c85bc719": {
      "model_module": "@jupyter-widgets/base",
      "model_module_version": "1.0.0",
      "model_name": "LayoutModel",
      "state": {}
     },
     "0611ac4fe8534c078f567201722d654b": {
      "model_module": "@jupyter-widgets/base",
      "model_module_version": "1.0.0",
      "model_name": "LayoutModel",
      "state": {}
     },
     "07635e12185f4f1cab1d4ea19876294d": {
      "model_module": "@jupyter-widgets/base",
      "model_module_version": "1.0.0",
      "model_name": "LayoutModel",
      "state": {}
     },
     "08487d28c085428e8f5aa481ace69a46": {
      "model_module": "@jupyter-widgets/controls",
      "model_module_version": "1.1.0",
      "model_name": "IntProgressModel",
      "state": {
       "bar_style": "success",
       "layout": "IPY_MODEL_850429cc6ecb4427848b9b065db4eb03",
       "max": 1,
       "style": "IPY_MODEL_c3794adc7a324e4197b2b9aa51eea5d3",
       "value": 1
      }
     },
     "086fafd75042404386620d1a346a55b4": {
      "model_module": "@jupyter-widgets/base",
      "model_module_version": "1.0.0",
      "model_name": "LayoutModel",
      "state": {}
     },
     "09ba286bde3c4747ae5711319fa516f5": {
      "model_module": "@jupyter-widgets/base",
      "model_module_version": "1.0.0",
      "model_name": "LayoutModel",
      "state": {}
     },
     "0a3ac461ca6f44c0bbf4421b3da84502": {
      "model_module": "@jupyter-widgets/base",
      "model_module_version": "1.0.0",
      "model_name": "LayoutModel",
      "state": {}
     },
     "0b27a098bd984689b2520579e8aa479d": {
      "model_module": "@jupyter-widgets/controls",
      "model_module_version": "1.1.0",
      "model_name": "HBoxModel",
      "state": {
       "children": [
        "IPY_MODEL_b46ff816113048dfa9d599251c1483d1",
        "IPY_MODEL_3826e51ccded48c1b8174070dd38fe20"
       ],
       "layout": "IPY_MODEL_0fde8b377e5d421fb11b4f89a0f74559"
      }
     },
     "0ba3de344c3f458cab132f59ecfc20cc": {
      "model_module": "@jupyter-widgets/base",
      "model_module_version": "1.0.0",
      "model_name": "LayoutModel",
      "state": {}
     },
     "0ec4879e32a744abab780793d84e4614": {
      "model_module": "@jupyter-widgets/controls",
      "model_module_version": "1.1.0",
      "model_name": "HTMLModel",
      "state": {
       "layout": "IPY_MODEL_5e3588389f2f444ea0ccb46aab4d79ba",
       "style": "IPY_MODEL_f4cbe9c234cf44f4afc86b63de745cdd",
       "value": "100% 3/3 [00:00&lt;00:00, 11.90it/s]"
      }
     },
     "0fde8b377e5d421fb11b4f89a0f74559": {
      "model_module": "@jupyter-widgets/base",
      "model_module_version": "1.0.0",
      "model_name": "LayoutModel",
      "state": {}
     },
     "10e6803a024341f9aa7bc5ef299d9aa5": {
      "model_module": "@jupyter-widgets/controls",
      "model_module_version": "1.1.0",
      "model_name": "ProgressStyleModel",
      "state": {
       "description_width": ""
      }
     },
     "116a531c7e5d4144b57998704311e27c": {
      "model_module": "@jupyter-widgets/controls",
      "model_module_version": "1.1.0",
      "model_name": "DescriptionStyleModel",
      "state": {
       "description_width": ""
      }
     },
     "116c2e29bc2141ebb6ff57c463a54794": {
      "model_module": "@jupyter-widgets/controls",
      "model_module_version": "1.1.0",
      "model_name": "HTMLModel",
      "state": {
       "layout": "IPY_MODEL_41f53779624344b7b53c44d9c885a1a6",
       "style": "IPY_MODEL_24e2a13eeccb43c0b51839624a0e53f9",
       "value": "100% 3/3 [00:02&lt;00:00,  1.31it/s]"
      }
     },
     "11c5234db68c4cadab6766fea42cdeba": {
      "model_module": "@jupyter-widgets/base",
      "model_module_version": "1.0.0",
      "model_name": "LayoutModel",
      "state": {}
     },
     "142ec25f73964588b6e1847f6e223f96": {
      "model_module": "@jupyter-widgets/controls",
      "model_module_version": "1.1.0",
      "model_name": "HTMLModel",
      "state": {
       "layout": "IPY_MODEL_7e3a505d58054f39af9072e143960d3d",
       "style": "IPY_MODEL_fca1736c4b1d49ef88c6e04e89443ac2",
       "value": "400it [00:00, 7499.40it/s]"
      }
     },
     "14cf58e5f3ee450ca1d26176433ee47a": {
      "model_module": "@jupyter-widgets/controls",
      "model_module_version": "1.1.0",
      "model_name": "IntProgressModel",
      "state": {
       "bar_style": "danger",
       "layout": "IPY_MODEL_2bf13612e6294d34b52ca1f0b9c8a163",
       "max": 7,
       "style": "IPY_MODEL_5f30bbfda99943b88dd55500a7113cf9"
      }
     },
     "152486fe282a4a7c9a698f9def009b10": {
      "model_module": "@jupyter-widgets/base",
      "model_module_version": "1.0.0",
      "model_name": "LayoutModel",
      "state": {}
     },
     "15a066eaefa34dfa9ce779d7fb3cd380": {
      "model_module": "@jupyter-widgets/base",
      "model_module_version": "1.0.0",
      "model_name": "LayoutModel",
      "state": {}
     },
     "16b7269223094bf1856718753d980da7": {
      "model_module": "@jupyter-widgets/controls",
      "model_module_version": "1.1.0",
      "model_name": "HTMLModel",
      "state": {
       "layout": "IPY_MODEL_5d2e95a6fda24972a82096ac2b99e4fc",
       "style": "IPY_MODEL_bdd9f38df28d44eab0ed63670f5877dd",
       "value": " 86% 6/7 [00:03&lt;00:00,  1.79it/s]"
      }
     },
     "186fb6432c494d8f9fefadb87174cc8a": {
      "model_module": "@jupyter-widgets/controls",
      "model_module_version": "1.1.0",
      "model_name": "DescriptionStyleModel",
      "state": {
       "description_width": ""
      }
     },
     "1a06fc5211d64edb8edae6544c3c2df7": {
      "model_module": "@jupyter-widgets/base",
      "model_module_version": "1.0.0",
      "model_name": "LayoutModel",
      "state": {}
     },
     "1c55c1c5ef8147158c4991a31ed31571": {
      "model_module": "@jupyter-widgets/controls",
      "model_module_version": "1.1.0",
      "model_name": "HBoxModel",
      "state": {
       "children": [
        "IPY_MODEL_4df5c35ec316455eb8a0715fc811d50b",
        "IPY_MODEL_116c2e29bc2141ebb6ff57c463a54794"
       ],
       "layout": "IPY_MODEL_ba4877768c684e29aba633c373c285a5"
      }
     },
     "1ca50c4a0dc34c2e98ee60ea81f19c51": {
      "model_module": "@jupyter-widgets/controls",
      "model_module_version": "1.1.0",
      "model_name": "HBoxModel",
      "state": {
       "children": [
        "IPY_MODEL_74b502ca087f448bad58dd0909976832",
        "IPY_MODEL_c4ed0315feba47b3831e3df3e6199a27"
       ],
       "layout": "IPY_MODEL_6e6f195d2992458eb31bba3715dd15fb"
      }
     },
     "1cff5228b35e4eb2936bc4b479e995e6": {
      "model_module": "@jupyter-widgets/base",
      "model_module_version": "1.0.0",
      "model_name": "LayoutModel",
      "state": {}
     },
     "1dfa9f99a4bc4c379e0a54ee31a724c1": {
      "model_module": "@jupyter-widgets/base",
      "model_module_version": "1.0.0",
      "model_name": "LayoutModel",
      "state": {}
     },
     "1f62fcbde1324d25ac266d3ddd19d1d4": {
      "model_module": "@jupyter-widgets/base",
      "model_module_version": "1.0.0",
      "model_name": "LayoutModel",
      "state": {}
     },
     "2096f8154219402b8524f607ff57c532": {
      "model_module": "@jupyter-widgets/controls",
      "model_module_version": "1.1.0",
      "model_name": "IntProgressModel",
      "state": {
       "bar_style": "danger",
       "layout": "IPY_MODEL_bafa4366981548b987ddb56da0ba6d7f",
       "max": 3,
       "style": "IPY_MODEL_b46e6876e5914a7485bfee2611fb5146"
      }
     },
     "20974290797f4d64a515ee25231c6432": {
      "model_module": "@jupyter-widgets/base",
      "model_module_version": "1.0.0",
      "model_name": "LayoutModel",
      "state": {}
     },
     "22170751f9d14e36b5be4bc7dcfdaaf3": {
      "model_module": "@jupyter-widgets/controls",
      "model_module_version": "1.1.0",
      "model_name": "DescriptionStyleModel",
      "state": {
       "description_width": ""
      }
     },
     "226e933e4af543659e6ed360dbdeb5f9": {
      "model_module": "@jupyter-widgets/controls",
      "model_module_version": "1.1.0",
      "model_name": "HBoxModel",
      "state": {
       "children": [
        "IPY_MODEL_fe863f2abb53408a875e76f00153990d",
        "IPY_MODEL_fb906ed4ebdd4f8b9347a11b31a81c0d"
       ],
       "layout": "IPY_MODEL_d29e8bc18d7e492a8226966ff204dd3c"
      }
     },
     "2297d3b8bc664b82998989ab9636ed35": {
      "model_module": "@jupyter-widgets/controls",
      "model_module_version": "1.1.0",
      "model_name": "ProgressStyleModel",
      "state": {
       "description_width": ""
      }
     },
     "22cb6621bbf84545a7fa006257aa60ea": {
      "model_module": "@jupyter-widgets/controls",
      "model_module_version": "1.1.0",
      "model_name": "HTMLModel",
      "state": {
       "layout": "IPY_MODEL_835b3bfca6e24653844c77dc5a097e97",
       "style": "IPY_MODEL_dd4a840546414060bb76d1162687d651",
       "value": "100% 3/3 [00:52&lt;00:00, 17.56s/it]"
      }
     },
     "24c46f7f92154ab9896ce0a960b2c752": {
      "model_module": "@jupyter-widgets/base",
      "model_module_version": "1.0.0",
      "model_name": "LayoutModel",
      "state": {}
     },
     "24e2a13eeccb43c0b51839624a0e53f9": {
      "model_module": "@jupyter-widgets/controls",
      "model_module_version": "1.1.0",
      "model_name": "DescriptionStyleModel",
      "state": {
       "description_width": ""
      }
     },
     "2566ae65bab94436a737a3032b7dec3a": {
      "model_module": "@jupyter-widgets/base",
      "model_module_version": "1.0.0",
      "model_name": "LayoutModel",
      "state": {}
     },
     "2703884e45ca42e2ac99d8b53e858a54": {
      "model_module": "@jupyter-widgets/base",
      "model_module_version": "1.0.0",
      "model_name": "LayoutModel",
      "state": {}
     },
     "273f41908410452ba7c8603e46f4a6c5": {
      "model_module": "@jupyter-widgets/controls",
      "model_module_version": "1.1.0",
      "model_name": "IntProgressModel",
      "state": {
       "bar_style": "success",
       "layout": "IPY_MODEL_003c634d1bf14aeebf62cfb737826777",
       "max": 3,
       "style": "IPY_MODEL_2d66774c65334becb594e1d181ca4825",
       "value": 3
      }
     },
     "2749a27fad5a453ab37389cdc5a20ffd": {
      "model_module": "@jupyter-widgets/base",
      "model_module_version": "1.0.0",
      "model_name": "LayoutModel",
      "state": {}
     },
     "27fd990f470540fcbef6d501e2a5dc1e": {
      "model_module": "@jupyter-widgets/base",
      "model_module_version": "1.0.0",
      "model_name": "LayoutModel",
      "state": {}
     },
     "28a3f4ae0b1e465593aa03f2d66ea793": {
      "model_module": "@jupyter-widgets/controls",
      "model_module_version": "1.1.0",
      "model_name": "ProgressStyleModel",
      "state": {
       "description_width": ""
      }
     },
     "292691c858af4159a4af846745eff0df": {
      "model_module": "@jupyter-widgets/base",
      "model_module_version": "1.0.0",
      "model_name": "LayoutModel",
      "state": {}
     },
     "2a1ffa50192745048c6c18ed32563466": {
      "model_module": "@jupyter-widgets/controls",
      "model_module_version": "1.1.0",
      "model_name": "HBoxModel",
      "state": {
       "children": [
        "IPY_MODEL_3fd9a764dad4451ba11dc6554db0e2ea",
        "IPY_MODEL_df8fe7c3e7f84d5194f5bbb4238e7e73"
       ],
       "layout": "IPY_MODEL_b1ae0837baaf43bfbc73eeed4bc79068"
      }
     },
     "2be1988d23b74de296e38c363020a24c": {
      "model_module": "@jupyter-widgets/controls",
      "model_module_version": "1.1.0",
      "model_name": "IntProgressModel",
      "state": {
       "bar_style": "success",
       "layout": "IPY_MODEL_292691c858af4159a4af846745eff0df",
       "max": 7,
       "style": "IPY_MODEL_401788dc0e6e47c9bf428d1bc4e6c7d3",
       "value": 7
      }
     },
     "2bf13612e6294d34b52ca1f0b9c8a163": {
      "model_module": "@jupyter-widgets/base",
      "model_module_version": "1.0.0",
      "model_name": "LayoutModel",
      "state": {}
     },
     "2bf21b08cf544c9fb008db189ee49d4f": {
      "model_module": "@jupyter-widgets/base",
      "model_module_version": "1.0.0",
      "model_name": "LayoutModel",
      "state": {}
     },
     "2c4cc635a0d740c386936df52073cd7c": {
      "model_module": "@jupyter-widgets/controls",
      "model_module_version": "1.1.0",
      "model_name": "DescriptionStyleModel",
      "state": {
       "description_width": ""
      }
     },
     "2d66774c65334becb594e1d181ca4825": {
      "model_module": "@jupyter-widgets/controls",
      "model_module_version": "1.1.0",
      "model_name": "ProgressStyleModel",
      "state": {
       "description_width": ""
      }
     },
     "2f53de1f5dee40a7b52fe68b6e52e738": {
      "model_module": "@jupyter-widgets/controls",
      "model_module_version": "1.1.0",
      "model_name": "HTMLModel",
      "state": {
       "layout": "IPY_MODEL_5d319f7cc1c3498c8745ea842c5e7d0a",
       "style": "IPY_MODEL_41382e743ded418e9c22d24eb3467ff6",
       "value": "100% 3/3 [00:00&lt;00:00, 11.99it/s]"
      }
     },
     "32bef98c095b4f669d67c16fa6acf738": {
      "model_module": "@jupyter-widgets/base",
      "model_module_version": "1.0.0",
      "model_name": "LayoutModel",
      "state": {}
     },
     "3412f11dd86f4683a587ea591a8d7dd8": {
      "model_module": "@jupyter-widgets/base",
      "model_module_version": "1.0.0",
      "model_name": "LayoutModel",
      "state": {}
     },
     "34e23132bd944779a60b928f40e69203": {
      "model_module": "@jupyter-widgets/base",
      "model_module_version": "1.0.0",
      "model_name": "LayoutModel",
      "state": {}
     },
     "367601e23f2f4e9e9fc95967c8c7fa7e": {
      "model_module": "@jupyter-widgets/base",
      "model_module_version": "1.0.0",
      "model_name": "LayoutModel",
      "state": {}
     },
     "36c53477813c4aa6aa2e88df8f847a95": {
      "model_module": "@jupyter-widgets/base",
      "model_module_version": "1.0.0",
      "model_name": "LayoutModel",
      "state": {}
     },
     "375cacf351da4fee8baeb36273d20af1": {
      "model_module": "@jupyter-widgets/controls",
      "model_module_version": "1.1.0",
      "model_name": "ProgressStyleModel",
      "state": {
       "description_width": ""
      }
     },
     "3826e51ccded48c1b8174070dd38fe20": {
      "model_module": "@jupyter-widgets/controls",
      "model_module_version": "1.1.0",
      "model_name": "HTMLModel",
      "state": {
       "layout": "IPY_MODEL_2bf21b08cf544c9fb008db189ee49d4f",
       "style": "IPY_MODEL_dc44de44866d4898839d388792fb288f",
       "value": "  0% 0/7 [00:00&lt;?, ?it/s]"
      }
     },
     "38f2d27ab2194509a8a0710383b56478": {
      "model_module": "@jupyter-widgets/controls",
      "model_module_version": "1.1.0",
      "model_name": "IntProgressModel",
      "state": {
       "bar_style": "success",
       "layout": "IPY_MODEL_e7f9ce5b339f492c859cae0532f6fcce",
       "max": 3,
       "style": "IPY_MODEL_2297d3b8bc664b82998989ab9636ed35",
       "value": 3
      }
     },
     "3a0885f563134783903f64a356fcea20": {
      "model_module": "@jupyter-widgets/controls",
      "model_module_version": "1.1.0",
      "model_name": "IntProgressModel",
      "state": {
       "bar_style": "danger",
       "layout": "IPY_MODEL_764d8ea9606f4a899f9940b058d2b986",
       "max": 3,
       "style": "IPY_MODEL_3be51572669544229736a28c2c40cd66"
      }
     },
     "3a8028205eee430d9a3e615c632bf87a": {
      "model_module": "@jupyter-widgets/base",
      "model_module_version": "1.0.0",
      "model_name": "LayoutModel",
      "state": {}
     },
     "3a9526721d9f422ca15301f238793b56": {
      "model_module": "@jupyter-widgets/base",
      "model_module_version": "1.0.0",
      "model_name": "LayoutModel",
      "state": {}
     },
     "3bb0332db3b146189dfbe0c649b081be": {
      "model_module": "@jupyter-widgets/controls",
      "model_module_version": "1.1.0",
      "model_name": "DescriptionStyleModel",
      "state": {
       "description_width": ""
      }
     },
     "3bba12cdde4042ffbee89239c425b293": {
      "model_module": "@jupyter-widgets/controls",
      "model_module_version": "1.1.0",
      "model_name": "HBoxModel",
      "state": {
       "children": [
        "IPY_MODEL_2be1988d23b74de296e38c363020a24c",
        "IPY_MODEL_5d97bab545d64ad590b40b7670519e58"
       ],
       "layout": "IPY_MODEL_de3ff4337cc241b5b3fd3dcce9cf5315"
      }
     },
     "3be51572669544229736a28c2c40cd66": {
      "model_module": "@jupyter-widgets/controls",
      "model_module_version": "1.1.0",
      "model_name": "ProgressStyleModel",
      "state": {
       "description_width": ""
      }
     },
     "3c44f4e0640745a9bd691be4fe39ad11": {
      "model_module": "@jupyter-widgets/controls",
      "model_module_version": "1.1.0",
      "model_name": "ProgressStyleModel",
      "state": {
       "description_width": ""
      }
     },
     "3e9ad56976f940a3851e6624a45b6dd4": {
      "model_module": "@jupyter-widgets/controls",
      "model_module_version": "1.1.0",
      "model_name": "HTMLModel",
      "state": {
       "layout": "IPY_MODEL_d9686e5f502d449798e2598f198e8e40",
       "style": "IPY_MODEL_22170751f9d14e36b5be4bc7dcfdaaf3",
       "value": "100% 3/3 [00:00&lt;00:00, 11.32it/s]"
      }
     },
     "3fd9a764dad4451ba11dc6554db0e2ea": {
      "model_module": "@jupyter-widgets/controls",
      "model_module_version": "1.1.0",
      "model_name": "IntProgressModel",
      "state": {
       "bar_style": "success",
       "layout": "IPY_MODEL_abf6d646d63d4c7bac072867520ef70e",
       "max": 7,
       "style": "IPY_MODEL_8305d8ad53d244bb8952dfe62685c65f",
       "value": 7
      }
     },
     "400d0f0daeb24e6296139a2c55b3d8d0": {
      "model_module": "@jupyter-widgets/controls",
      "model_module_version": "1.1.0",
      "model_name": "HTMLModel",
      "state": {
       "layout": "IPY_MODEL_9103a5cd2eae479ab69231aedb1bd57b",
       "style": "IPY_MODEL_70179740411e4bff8752a1b069470fbc",
       "value": "  0% 0/7 [00:00&lt;?, ?it/s]"
      }
     },
     "401788dc0e6e47c9bf428d1bc4e6c7d3": {
      "model_module": "@jupyter-widgets/controls",
      "model_module_version": "1.1.0",
      "model_name": "ProgressStyleModel",
      "state": {
       "description_width": ""
      }
     },
     "41382e743ded418e9c22d24eb3467ff6": {
      "model_module": "@jupyter-widgets/controls",
      "model_module_version": "1.1.0",
      "model_name": "DescriptionStyleModel",
      "state": {
       "description_width": ""
      }
     },
     "41485e72fa7145f5bf1562093080891c": {
      "model_module": "@jupyter-widgets/controls",
      "model_module_version": "1.1.0",
      "model_name": "HTMLModel",
      "state": {
       "layout": "IPY_MODEL_75dd947e6ed64c589b620d27e30812e9",
       "style": "IPY_MODEL_e07a9888746f4b509c4c3e58bc24e110",
       "value": "100% 7/7 [00:03&lt;00:00,  2.03it/s]"
      }
     },
     "418b3ae749f74f358dcc2635b911b1da": {
      "model_module": "@jupyter-widgets/controls",
      "model_module_version": "1.1.0",
      "model_name": "HBoxModel",
      "state": {
       "children": [
        "IPY_MODEL_cb79589cadc247b5b976e0fa8e027166",
        "IPY_MODEL_b280c3d427c74b3b90ec7cb98a58bc2e"
       ],
       "layout": "IPY_MODEL_ae3d39ee4de046b6be1053eb29465bc3"
      }
     },
     "41f53779624344b7b53c44d9c885a1a6": {
      "model_module": "@jupyter-widgets/base",
      "model_module_version": "1.0.0",
      "model_name": "LayoutModel",
      "state": {}
     },
     "4246173979454075b83a0ab310abfb6f": {
      "model_module": "@jupyter-widgets/controls",
      "model_module_version": "1.1.0",
      "model_name": "ProgressStyleModel",
      "state": {
       "description_width": ""
      }
     },
     "42b637cf5d7a4a258a6120d9aeecedd3": {
      "model_module": "@jupyter-widgets/base",
      "model_module_version": "1.0.0",
      "model_name": "LayoutModel",
      "state": {}
     },
     "43f08181d55e4491b7908f6d756a1d3d": {
      "model_module": "@jupyter-widgets/base",
      "model_module_version": "1.0.0",
      "model_name": "LayoutModel",
      "state": {}
     },
     "46c38b7583134f059d23496848f29b97": {
      "model_module": "@jupyter-widgets/controls",
      "model_module_version": "1.1.0",
      "model_name": "IntProgressModel",
      "state": {
       "bar_style": "success",
       "layout": "IPY_MODEL_e343332ca4f247198221a25f1bf71dad",
       "max": 3,
       "style": "IPY_MODEL_5862d7e409854c88868b8bfe9027eb18",
       "value": 3
      }
     },
     "47338be8fe1a4ea0996cc928d68594f8": {
      "model_module": "@jupyter-widgets/controls",
      "model_module_version": "1.1.0",
      "model_name": "HBoxModel",
      "state": {
       "children": [
        "IPY_MODEL_94cdbb3d31b74cfd9539debc5cf76e7f",
        "IPY_MODEL_2f53de1f5dee40a7b52fe68b6e52e738"
       ],
       "layout": "IPY_MODEL_0611ac4fe8534c078f567201722d654b"
      }
     },
     "478a7147b239489f8739085cd3247e43": {
      "model_module": "@jupyter-widgets/controls",
      "model_module_version": "1.1.0",
      "model_name": "IntProgressModel",
      "state": {
       "bar_style": "danger",
       "layout": "IPY_MODEL_36c53477813c4aa6aa2e88df8f847a95",
       "max": 3,
       "style": "IPY_MODEL_375cacf351da4fee8baeb36273d20af1"
      }
     },
     "4b16716e0e524b4ea0983a468654330c": {
      "model_module": "@jupyter-widgets/controls",
      "model_module_version": "1.1.0",
      "model_name": "HTMLModel",
      "state": {
       "layout": "IPY_MODEL_960a4415c8fd4b5eb35544b586516310",
       "style": "IPY_MODEL_b257c529f99e4fe19e21b645b8b2ee3d",
       "value": "400it [00:00, 7602.37it/s]"
      }
     },
     "4b24c9a0f0c449b4b47478decda29335": {
      "model_module": "@jupyter-widgets/controls",
      "model_module_version": "1.1.0",
      "model_name": "HBoxModel",
      "state": {
       "children": [
        "IPY_MODEL_562acd07b6cf4529bd141b251988b096",
        "IPY_MODEL_805bc4d3d6d8442ba84cb5e4f2406f1f"
       ],
       "layout": "IPY_MODEL_52c68c75ae754767b3abbaf2354291cf"
      }
     },
     "4b3e125881e64d358469e645df4ab270": {
      "model_module": "@jupyter-widgets/controls",
      "model_module_version": "1.1.0",
      "model_name": "ProgressStyleModel",
      "state": {
       "description_width": ""
      }
     },
     "4bebc013999b4da280a1a4257ea2be94": {
      "model_module": "@jupyter-widgets/controls",
      "model_module_version": "1.1.0",
      "model_name": "HBoxModel",
      "state": {
       "children": [
        "IPY_MODEL_08487d28c085428e8f5aa481ace69a46",
        "IPY_MODEL_b1531c8d79524ef9b4aec530a07d5938"
       ],
       "layout": "IPY_MODEL_60044fe548414c40962ddddbc353ca1c"
      }
     },
     "4c6e9fa4081649c09992ae97f08cead1": {
      "model_module": "@jupyter-widgets/controls",
      "model_module_version": "1.1.0",
      "model_name": "DescriptionStyleModel",
      "state": {
       "description_width": ""
      }
     },
     "4d9fc413a4594114912c37a2cdf7fe41": {
      "model_module": "@jupyter-widgets/base",
      "model_module_version": "1.0.0",
      "model_name": "LayoutModel",
      "state": {}
     },
     "4daadf881795476dbbdcc227f7faf892": {
      "model_module": "@jupyter-widgets/controls",
      "model_module_version": "1.1.0",
      "model_name": "IntProgressModel",
      "state": {
       "bar_style": "danger",
       "layout": "IPY_MODEL_87b6b69a642f42debb327cab3ebd9354",
       "max": 7,
       "style": "IPY_MODEL_b2486ef85a014d3482d18c35f94c0eb0",
       "value": 6
      }
     },
     "4df5c35ec316455eb8a0715fc811d50b": {
      "model_module": "@jupyter-widgets/controls",
      "model_module_version": "1.1.0",
      "model_name": "IntProgressModel",
      "state": {
       "bar_style": "success",
       "layout": "IPY_MODEL_c2787062f5bf4a90a0edcca179c5ce37",
       "max": 3,
       "style": "IPY_MODEL_9561136a2ec0406eb1e77b0fda68de20",
       "value": 3
      }
     },
     "50757fc700da433f9740767155f4ed1a": {
      "model_module": "@jupyter-widgets/controls",
      "model_module_version": "1.1.0",
      "model_name": "HTMLModel",
      "state": {
       "layout": "IPY_MODEL_94378a1962c54dc386cd604af2933a8a",
       "style": "IPY_MODEL_dfaa8f9fc4334137b3f0c575f0bdd1ce",
       "value": "100% 3/3 [00:53&lt;00:00, 17.75s/it]"
      }
     },
     "508f1bad724c4920bf2d138fe97085b6": {
      "model_module": "@jupyter-widgets/controls",
      "model_module_version": "1.1.0",
      "model_name": "IntProgressModel",
      "state": {
       "bar_style": "danger",
       "layout": "IPY_MODEL_fc6e378efdce4d989dd9d8b7e1e11e35",
       "max": 7,
       "style": "IPY_MODEL_02828d9d36e64582a49f37377ebd7f2a"
      }
     },
     "515176b059934e5eacf7e26eff02b861": {
      "model_module": "@jupyter-widgets/controls",
      "model_module_version": "1.1.0",
      "model_name": "DescriptionStyleModel",
      "state": {
       "description_width": ""
      }
     },
     "519d07e3dcab47c0acf1dfdcf6f4c330": {
      "model_module": "@jupyter-widgets/controls",
      "model_module_version": "1.1.0",
      "model_name": "ProgressStyleModel",
      "state": {
       "description_width": ""
      }
     },
     "51bcf7af85ae403ca4fed10580cdccf5": {
      "model_module": "@jupyter-widgets/base",
      "model_module_version": "1.0.0",
      "model_name": "LayoutModel",
      "state": {}
     },
     "521be4699f7e4b05a6f7f8d71a46c81a": {
      "model_module": "@jupyter-widgets/controls",
      "model_module_version": "1.1.0",
      "model_name": "HTMLModel",
      "state": {
       "layout": "IPY_MODEL_8ba9996b46864781b6c40a5124f8606a",
       "style": "IPY_MODEL_fa14a784f822461093f4028b9dc03086",
       "value": "  0% 0/7 [00:00&lt;?, ?it/s]"
      }
     },
     "52c68c75ae754767b3abbaf2354291cf": {
      "model_module": "@jupyter-widgets/base",
      "model_module_version": "1.0.0",
      "model_name": "LayoutModel",
      "state": {}
     },
     "53145ae01d5a4424a3058f2e74e3e600": {
      "model_module": "@jupyter-widgets/controls",
      "model_module_version": "1.1.0",
      "model_name": "ProgressStyleModel",
      "state": {
       "description_width": ""
      }
     },
     "5393b198826f4199991c22369da17507": {
      "model_module": "@jupyter-widgets/controls",
      "model_module_version": "1.1.0",
      "model_name": "DescriptionStyleModel",
      "state": {
       "description_width": ""
      }
     },
     "54481ded5ee5403fb4c9ba0fb8c3dce0": {
      "model_module": "@jupyter-widgets/controls",
      "model_module_version": "1.1.0",
      "model_name": "DescriptionStyleModel",
      "state": {
       "description_width": ""
      }
     },
     "562acd07b6cf4529bd141b251988b096": {
      "model_module": "@jupyter-widgets/controls",
      "model_module_version": "1.1.0",
      "model_name": "IntProgressModel",
      "state": {
       "bar_style": "danger",
       "layout": "IPY_MODEL_5de6626e2cc44afa88b3b2ae1cca8aca",
       "max": 3,
       "style": "IPY_MODEL_f6e95bd2d29e49e18caf0e7373437874"
      }
     },
     "5862d7e409854c88868b8bfe9027eb18": {
      "model_module": "@jupyter-widgets/controls",
      "model_module_version": "1.1.0",
      "model_name": "ProgressStyleModel",
      "state": {
       "description_width": ""
      }
     },
     "5901472a341c4cd3888c2e01ffe2f224": {
      "model_module": "@jupyter-widgets/controls",
      "model_module_version": "1.1.0",
      "model_name": "HTMLModel",
      "state": {
       "layout": "IPY_MODEL_d7e5dd192c3b4ff3b7908ce726b32b9e",
       "style": "IPY_MODEL_f77601632c7e40c0934ba36de4f96c55",
       "value": "  0% 0/7 [00:00&lt;?, ?it/s]"
      }
     },
     "5a49b76acace423ba4e476adf1455713": {
      "model_module": "@jupyter-widgets/base",
      "model_module_version": "1.0.0",
      "model_name": "LayoutModel",
      "state": {}
     },
     "5c78c7c8fe284edd923c5330a9a37975": {
      "model_module": "@jupyter-widgets/controls",
      "model_module_version": "1.1.0",
      "model_name": "HBoxModel",
      "state": {
       "children": [
        "IPY_MODEL_4daadf881795476dbbdcc227f7faf892",
        "IPY_MODEL_16b7269223094bf1856718753d980da7"
       ],
       "layout": "IPY_MODEL_11c5234db68c4cadab6766fea42cdeba"
      }
     },
     "5c7c23a0d74c4ba9b663f2a62cfa3f49": {
      "model_module": "@jupyter-widgets/controls",
      "model_module_version": "1.1.0",
      "model_name": "HBoxModel",
      "state": {
       "children": [
        "IPY_MODEL_f8d4e572dcc140659ce9943032feafe8",
        "IPY_MODEL_8b37334d7a7647e39626c928d9069b45"
       ],
       "layout": "IPY_MODEL_ea4ba5e1461a4f87ae69292206116951"
      }
     },
     "5cc3b949e02d4ce0a5ddb1e6cd23004b": {
      "model_module": "@jupyter-widgets/base",
      "model_module_version": "1.0.0",
      "model_name": "LayoutModel",
      "state": {}
     },
     "5d2e95a6fda24972a82096ac2b99e4fc": {
      "model_module": "@jupyter-widgets/base",
      "model_module_version": "1.0.0",
      "model_name": "LayoutModel",
      "state": {}
     },
     "5d319f7cc1c3498c8745ea842c5e7d0a": {
      "model_module": "@jupyter-widgets/base",
      "model_module_version": "1.0.0",
      "model_name": "LayoutModel",
      "state": {}
     },
     "5d97bab545d64ad590b40b7670519e58": {
      "model_module": "@jupyter-widgets/controls",
      "model_module_version": "1.1.0",
      "model_name": "HTMLModel",
      "state": {
       "layout": "IPY_MODEL_72332905967b43d5ae4e4aac4e7f6115",
       "style": "IPY_MODEL_8cc3225dd81d434ca55e48eaccb6f633",
       "value": "100% 7/7 [00:02&lt;00:00,  2.81it/s]"
      }
     },
     "5de6626e2cc44afa88b3b2ae1cca8aca": {
      "model_module": "@jupyter-widgets/base",
      "model_module_version": "1.0.0",
      "model_name": "LayoutModel",
      "state": {}
     },
     "5e3588389f2f444ea0ccb46aab4d79ba": {
      "model_module": "@jupyter-widgets/base",
      "model_module_version": "1.0.0",
      "model_name": "LayoutModel",
      "state": {}
     },
     "5e4d18718c864bf8b8ea7143e03e9527": {
      "model_module": "@jupyter-widgets/controls",
      "model_module_version": "1.1.0",
      "model_name": "ProgressStyleModel",
      "state": {
       "description_width": ""
      }
     },
     "5e630f3a4c674d718595ec6ee0d08833": {
      "model_module": "@jupyter-widgets/controls",
      "model_module_version": "1.1.0",
      "model_name": "HBoxModel",
      "state": {
       "children": [
        "IPY_MODEL_882a3ba07f31463cb0126dbf4134d7ca",
        "IPY_MODEL_4b16716e0e524b4ea0983a468654330c"
       ],
       "layout": "IPY_MODEL_24c46f7f92154ab9896ce0a960b2c752"
      }
     },
     "5f30bbfda99943b88dd55500a7113cf9": {
      "model_module": "@jupyter-widgets/controls",
      "model_module_version": "1.1.0",
      "model_name": "ProgressStyleModel",
      "state": {
       "description_width": ""
      }
     },
     "5f70f2fd11264239bc39a27b12011ad2": {
      "model_module": "@jupyter-widgets/controls",
      "model_module_version": "1.1.0",
      "model_name": "ProgressStyleModel",
      "state": {
       "description_width": ""
      }
     },
     "60044fe548414c40962ddddbc353ca1c": {
      "model_module": "@jupyter-widgets/base",
      "model_module_version": "1.0.0",
      "model_name": "LayoutModel",
      "state": {}
     },
     "6128a430fa124a87933dbfca4d614063": {
      "model_module": "@jupyter-widgets/controls",
      "model_module_version": "1.1.0",
      "model_name": "HTMLModel",
      "state": {
       "layout": "IPY_MODEL_e56c07fd5a7548bcbdcb09970fbe6f1f",
       "style": "IPY_MODEL_2c4cc635a0d740c386936df52073cd7c",
       "value": "100% 3/3 [00:00&lt;00:00, 10.94it/s]"
      }
     },
     "637e94c2f12141e88a75401575a96517": {
      "model_module": "@jupyter-widgets/base",
      "model_module_version": "1.0.0",
      "model_name": "LayoutModel",
      "state": {}
     },
     "637fd5b0a9a54b7eb86edf27d8675369": {
      "model_module": "@jupyter-widgets/controls",
      "model_module_version": "1.1.0",
      "model_name": "DescriptionStyleModel",
      "state": {
       "description_width": ""
      }
     },
     "665720bc138c4f73882c79e0b9c74921": {
      "model_module": "@jupyter-widgets/controls",
      "model_module_version": "1.1.0",
      "model_name": "HTMLModel",
      "state": {
       "layout": "IPY_MODEL_771b15a2723b4633957e9689d95213b9",
       "style": "IPY_MODEL_3bb0332db3b146189dfbe0c649b081be",
       "value": "100% 3/3 [00:00&lt;00:00, 11.95it/s]"
      }
     },
     "67740ea901d941e5ab38512e7eb56c9a": {
      "model_module": "@jupyter-widgets/base",
      "model_module_version": "1.0.0",
      "model_name": "LayoutModel",
      "state": {}
     },
     "67ee7d12dfee4aaeac4af56626f7cca1": {
      "model_module": "@jupyter-widgets/controls",
      "model_module_version": "1.1.0",
      "model_name": "ProgressStyleModel",
      "state": {
       "description_width": ""
      }
     },
     "6858706897d742a8b453127980041457": {
      "model_module": "@jupyter-widgets/controls",
      "model_module_version": "1.1.0",
      "model_name": "HBoxModel",
      "state": {
       "children": [
        "IPY_MODEL_ce0d370e37654d6a9aad90c3f369d4f7",
        "IPY_MODEL_6f94a79672274601aa2f3e1d28eac525"
       ],
       "layout": "IPY_MODEL_32bef98c095b4f669d67c16fa6acf738"
      }
     },
     "6b16f530d43f4a6ab0f3915a2b891aa0": {
      "model_module": "@jupyter-widgets/controls",
      "model_module_version": "1.1.0",
      "model_name": "HBoxModel",
      "state": {
       "children": [
        "IPY_MODEL_478a7147b239489f8739085cd3247e43",
        "IPY_MODEL_f0cac51fcbba4b4fa21d93269eadfd4a"
       ],
       "layout": "IPY_MODEL_bb582dea72cd4684b4cbda7c16fd2d31"
      }
     },
     "6c491e42e0fc4c83811e3308f5ff46f1": {
      "model_module": "@jupyter-widgets/base",
      "model_module_version": "1.0.0",
      "model_name": "LayoutModel",
      "state": {}
     },
     "6ca5a3ad20b54db5ba729e44d4297839": {
      "model_module": "@jupyter-widgets/base",
      "model_module_version": "1.0.0",
      "model_name": "LayoutModel",
      "state": {}
     },
     "6e6f195d2992458eb31bba3715dd15fb": {
      "model_module": "@jupyter-widgets/base",
      "model_module_version": "1.0.0",
      "model_name": "LayoutModel",
      "state": {}
     },
     "6f94a79672274601aa2f3e1d28eac525": {
      "model_module": "@jupyter-widgets/controls",
      "model_module_version": "1.1.0",
      "model_name": "HTMLModel",
      "state": {
       "layout": "IPY_MODEL_637e94c2f12141e88a75401575a96517",
       "style": "IPY_MODEL_eaa6f690c048498ab98af6c88692629e",
       "value": "100% 3/3 [00:00&lt;00:00, 11.47it/s]"
      }
     },
     "70179740411e4bff8752a1b069470fbc": {
      "model_module": "@jupyter-widgets/controls",
      "model_module_version": "1.1.0",
      "model_name": "DescriptionStyleModel",
      "state": {
       "description_width": ""
      }
     },
     "7025f3162b8f4388affcbec5daae642a": {
      "model_module": "@jupyter-widgets/controls",
      "model_module_version": "1.1.0",
      "model_name": "IntProgressModel",
      "state": {
       "bar_style": "danger",
       "layout": "IPY_MODEL_367601e23f2f4e9e9fc95967c8c7fa7e",
       "max": 3,
       "style": "IPY_MODEL_3c44f4e0640745a9bd691be4fe39ad11"
      }
     },
     "70590ca46777484c9fc2186def3523ee": {
      "model_module": "@jupyter-widgets/base",
      "model_module_version": "1.0.0",
      "model_name": "LayoutModel",
      "state": {}
     },
     "715a3bbf6f82492ea7213e034ccbc82e": {
      "model_module": "@jupyter-widgets/controls",
      "model_module_version": "1.1.0",
      "model_name": "DescriptionStyleModel",
      "state": {
       "description_width": ""
      }
     },
     "71e69ef05b254ed39935107c1adb0e77": {
      "model_module": "@jupyter-widgets/base",
      "model_module_version": "1.0.0",
      "model_name": "LayoutModel",
      "state": {}
     },
     "72332905967b43d5ae4e4aac4e7f6115": {
      "model_module": "@jupyter-widgets/base",
      "model_module_version": "1.0.0",
      "model_name": "LayoutModel",
      "state": {}
     },
     "74a27c3645e94b98be8de6aa9ea319b7": {
      "model_module": "@jupyter-widgets/base",
      "model_module_version": "1.0.0",
      "model_name": "LayoutModel",
      "state": {}
     },
     "74ac28d62aeb4241ac7350a498333626": {
      "model_module": "@jupyter-widgets/controls",
      "model_module_version": "1.1.0",
      "model_name": "HBoxModel",
      "state": {
       "children": [
        "IPY_MODEL_273f41908410452ba7c8603e46f4a6c5",
        "IPY_MODEL_665720bc138c4f73882c79e0b9c74921"
       ],
       "layout": "IPY_MODEL_eff260bbc016439595551c53a310539b"
      }
     },
     "74b502ca087f448bad58dd0909976832": {
      "model_module": "@jupyter-widgets/controls",
      "model_module_version": "1.1.0",
      "model_name": "IntProgressModel",
      "state": {
       "bar_style": "danger",
       "layout": "IPY_MODEL_c40f4071f2434511b412dc2cbeeded72",
       "max": 7,
       "style": "IPY_MODEL_81862cc464bb4e34a711917b419a7f0b"
      }
     },
     "75dd947e6ed64c589b620d27e30812e9": {
      "model_module": "@jupyter-widgets/base",
      "model_module_version": "1.0.0",
      "model_name": "LayoutModel",
      "state": {}
     },
     "75e01534f0c241e3918eb757a0bc24e9": {
      "model_module": "@jupyter-widgets/base",
      "model_module_version": "1.0.0",
      "model_name": "LayoutModel",
      "state": {}
     },
     "764d8ea9606f4a899f9940b058d2b986": {
      "model_module": "@jupyter-widgets/base",
      "model_module_version": "1.0.0",
      "model_name": "LayoutModel",
      "state": {}
     },
     "76d9ee54711646fa9d6e87edd64db04e": {
      "model_module": "@jupyter-widgets/controls",
      "model_module_version": "1.1.0",
      "model_name": "IntProgressModel",
      "state": {
       "bar_style": "success",
       "layout": "IPY_MODEL_3a8028205eee430d9a3e615c632bf87a",
       "max": 3,
       "style": "IPY_MODEL_53145ae01d5a4424a3058f2e74e3e600",
       "value": 3
      }
     },
     "76ddc7a5718d49e5a68585af14586792": {
      "model_module": "@jupyter-widgets/controls",
      "model_module_version": "1.1.0",
      "model_name": "IntProgressModel",
      "state": {
       "bar_style": "danger",
       "layout": "IPY_MODEL_3a9526721d9f422ca15301f238793b56",
       "max": 7,
       "style": "IPY_MODEL_b6f2647c0a904abba4f96d52154c8c1a"
      }
     },
     "771b15a2723b4633957e9689d95213b9": {
      "model_module": "@jupyter-widgets/base",
      "model_module_version": "1.0.0",
      "model_name": "LayoutModel",
      "state": {}
     },
     "7830312026e24908a82393296b0cb56c": {
      "model_module": "@jupyter-widgets/controls",
      "model_module_version": "1.1.0",
      "model_name": "HTMLModel",
      "state": {
       "layout": "IPY_MODEL_0a3ac461ca6f44c0bbf4421b3da84502",
       "style": "IPY_MODEL_4c6e9fa4081649c09992ae97f08cead1",
       "value": "100% 3/3 [00:00&lt;00:00,  6.76it/s]"
      }
     },
     "7a8c10c5238d472c8d4bdb08f7b65e1f": {
      "model_module": "@jupyter-widgets/controls",
      "model_module_version": "1.1.0",
      "model_name": "HBoxModel",
      "state": {
       "children": [
        "IPY_MODEL_14cf58e5f3ee450ca1d26176433ee47a",
        "IPY_MODEL_400d0f0daeb24e6296139a2c55b3d8d0"
       ],
       "layout": "IPY_MODEL_d6656e3cb1574741a1c440c189648834"
      }
     },
     "7b2896b22f8a4351a0b94c180cb019e4": {
      "model_module": "@jupyter-widgets/base",
      "model_module_version": "1.0.0",
      "model_name": "LayoutModel",
      "state": {}
     },
     "7d45c8e696b54527bc7951f559266ce9": {
      "model_module": "@jupyter-widgets/base",
      "model_module_version": "1.0.0",
      "model_name": "LayoutModel",
      "state": {}
     },
     "7d53624ab52a4db5b602626985a20a4e": {
      "model_module": "@jupyter-widgets/base",
      "model_module_version": "1.0.0",
      "model_name": "LayoutModel",
      "state": {}
     },
     "7e3a505d58054f39af9072e143960d3d": {
      "model_module": "@jupyter-widgets/base",
      "model_module_version": "1.0.0",
      "model_name": "LayoutModel",
      "state": {}
     },
     "7ed1b5de973d4bd4a1259a3886f88b17": {
      "model_module": "@jupyter-widgets/controls",
      "model_module_version": "1.1.0",
      "model_name": "ProgressStyleModel",
      "state": {
       "description_width": ""
      }
     },
     "7fbb8fb102e641639dfe81c037707d96": {
      "model_module": "@jupyter-widgets/base",
      "model_module_version": "1.0.0",
      "model_name": "LayoutModel",
      "state": {}
     },
     "803fd5c87c074deb9f5d2da615792ec2": {
      "model_module": "@jupyter-widgets/controls",
      "model_module_version": "1.1.0",
      "model_name": "DescriptionStyleModel",
      "state": {
       "description_width": ""
      }
     },
     "805bc4d3d6d8442ba84cb5e4f2406f1f": {
      "model_module": "@jupyter-widgets/controls",
      "model_module_version": "1.1.0",
      "model_name": "HTMLModel",
      "state": {
       "layout": "IPY_MODEL_a4d960a3084f42289b1884fdeab0cc85",
       "style": "IPY_MODEL_515176b059934e5eacf7e26eff02b861",
       "value": "  0% 0/3 [00:00&lt;?, ?it/s]"
      }
     },
     "81862cc464bb4e34a711917b419a7f0b": {
      "model_module": "@jupyter-widgets/controls",
      "model_module_version": "1.1.0",
      "model_name": "ProgressStyleModel",
      "state": {
       "description_width": ""
      }
     },
     "8192e4c9320446ebbd331b08c3dca0fc": {
      "model_module": "@jupyter-widgets/controls",
      "model_module_version": "1.1.0",
      "model_name": "DescriptionStyleModel",
      "state": {
       "description_width": ""
      }
     },
     "8240f6853f0d4fa2aee9ede063c55509": {
      "model_module": "@jupyter-widgets/controls",
      "model_module_version": "1.1.0",
      "model_name": "HTMLModel",
      "state": {
       "layout": "IPY_MODEL_20974290797f4d64a515ee25231c6432",
       "style": "IPY_MODEL_b32f381f773548b282dd7f8fbed4d3e9",
       "value": "100% 3/3 [00:00&lt;00:00,  6.35it/s]"
      }
     },
     "82a459fdc15040228e11c16ecc43b5e8": {
      "model_module": "@jupyter-widgets/controls",
      "model_module_version": "1.1.0",
      "model_name": "HTMLModel",
      "state": {
       "layout": "IPY_MODEL_2749a27fad5a453ab37389cdc5a20ffd",
       "style": "IPY_MODEL_d897e6dd4279446d8b5692554e65d8d7",
       "value": "  0% 0/3 [00:00&lt;?, ?it/s]"
      }
     },
     "8305d8ad53d244bb8952dfe62685c65f": {
      "model_module": "@jupyter-widgets/controls",
      "model_module_version": "1.1.0",
      "model_name": "ProgressStyleModel",
      "state": {
       "description_width": ""
      }
     },
     "835b3bfca6e24653844c77dc5a097e97": {
      "model_module": "@jupyter-widgets/base",
      "model_module_version": "1.0.0",
      "model_name": "LayoutModel",
      "state": {}
     },
     "850429cc6ecb4427848b9b065db4eb03": {
      "model_module": "@jupyter-widgets/base",
      "model_module_version": "1.0.0",
      "model_name": "LayoutModel",
      "state": {}
     },
     "85eece508db54c7da5bba0002a103690": {
      "model_module": "@jupyter-widgets/controls",
      "model_module_version": "1.1.0",
      "model_name": "ProgressStyleModel",
      "state": {
       "description_width": ""
      }
     },
     "86ead5fce6204fba90a269771c06dfa8": {
      "model_module": "@jupyter-widgets/controls",
      "model_module_version": "1.1.0",
      "model_name": "IntProgressModel",
      "state": {
       "bar_style": "success",
       "layout": "IPY_MODEL_27fd990f470540fcbef6d501e2a5dc1e",
       "max": 3,
       "style": "IPY_MODEL_d82de137e1a74560878f14b60c5605af",
       "value": 3
      }
     },
     "877eaaa58de9452ca59db465dcd77de9": {
      "model_module": "@jupyter-widgets/controls",
      "model_module_version": "1.1.0",
      "model_name": "ProgressStyleModel",
      "state": {
       "description_width": ""
      }
     },
     "8786311f673a41a1bf87f68cf707e501": {
      "model_module": "@jupyter-widgets/controls",
      "model_module_version": "1.1.0",
      "model_name": "HBoxModel",
      "state": {
       "children": [
        "IPY_MODEL_e0f0a97013ef42009b4ed5594329f551",
        "IPY_MODEL_41485e72fa7145f5bf1562093080891c"
       ],
       "layout": "IPY_MODEL_fa33e4585a9240578747cae97ddb306e"
      }
     },
     "87b6b69a642f42debb327cab3ebd9354": {
      "model_module": "@jupyter-widgets/base",
      "model_module_version": "1.0.0",
      "model_name": "LayoutModel",
      "state": {}
     },
     "87ea8246db1a45e48f8cd8dc1e3ef9d7": {
      "model_module": "@jupyter-widgets/controls",
      "model_module_version": "1.1.0",
      "model_name": "HTMLModel",
      "state": {
       "layout": "IPY_MODEL_ded7b4b77d7940bc8a9f63205760d44d",
       "style": "IPY_MODEL_8b032135557e44dfac665fe79022d23c",
       "value": "  0% 1/12164 [00:10&lt;37:05:24, 10.98s/it]"
      }
     },
     "882a3ba07f31463cb0126dbf4134d7ca": {
      "model_module": "@jupyter-widgets/controls",
      "model_module_version": "1.1.0",
      "model_name": "IntProgressModel",
      "state": {
       "bar_style": "success",
       "layout": "IPY_MODEL_b8d987d664c144b1b2be674d2a890df9",
       "max": 1,
       "style": "IPY_MODEL_98d6e05d65044239820aecd0f156ecac",
       "value": 1
      }
     },
     "8b032135557e44dfac665fe79022d23c": {
      "model_module": "@jupyter-widgets/controls",
      "model_module_version": "1.1.0",
      "model_name": "DescriptionStyleModel",
      "state": {
       "description_width": ""
      }
     },
     "8b37334d7a7647e39626c928d9069b45": {
      "model_module": "@jupyter-widgets/controls",
      "model_module_version": "1.1.0",
      "model_name": "HTMLModel",
      "state": {
       "layout": "IPY_MODEL_1f62fcbde1324d25ac266d3ddd19d1d4",
       "style": "IPY_MODEL_186fb6432c494d8f9fefadb87174cc8a",
       "value": "  0% 0/3 [00:00&lt;?, ?it/s]"
      }
     },
     "8ba9996b46864781b6c40a5124f8606a": {
      "model_module": "@jupyter-widgets/base",
      "model_module_version": "1.0.0",
      "model_name": "LayoutModel",
      "state": {}
     },
     "8bcedba03f3840ab92cbb5fb24350d27": {
      "model_module": "@jupyter-widgets/controls",
      "model_module_version": "1.1.0",
      "model_name": "IntProgressModel",
      "state": {
       "bar_style": "success",
       "layout": "IPY_MODEL_34e23132bd944779a60b928f40e69203",
       "max": 3,
       "style": "IPY_MODEL_01c90423ea8f4511a3a99ee91ab5bd01",
       "value": 3
      }
     },
     "8cc3225dd81d434ca55e48eaccb6f633": {
      "model_module": "@jupyter-widgets/controls",
      "model_module_version": "1.1.0",
      "model_name": "DescriptionStyleModel",
      "state": {
       "description_width": ""
      }
     },
     "8deb2365ead04bf0b43b7296fb5636a6": {
      "model_module": "@jupyter-widgets/base",
      "model_module_version": "1.0.0",
      "model_name": "LayoutModel",
      "state": {}
     },
     "902f109a1e044619a6f8402827d354d6": {
      "model_module": "@jupyter-widgets/controls",
      "model_module_version": "1.1.0",
      "model_name": "IntProgressModel",
      "state": {
       "bar_style": "success",
       "layout": "IPY_MODEL_9d160106300646d3952834a099b8cd55",
       "max": 3,
       "style": "IPY_MODEL_a0711247cca442c58d04eb675feceb33",
       "value": 3
      }
     },
     "9103a5cd2eae479ab69231aedb1bd57b": {
      "model_module": "@jupyter-widgets/base",
      "model_module_version": "1.0.0",
      "model_name": "LayoutModel",
      "state": {}
     },
     "912a8131468e4d58a75277f2d43c41c3": {
      "model_module": "@jupyter-widgets/base",
      "model_module_version": "1.0.0",
      "model_name": "LayoutModel",
      "state": {}
     },
     "94300e08822947e39bb37c1959ce5339": {
      "model_module": "@jupyter-widgets/controls",
      "model_module_version": "1.1.0",
      "model_name": "IntProgressModel",
      "state": {
       "bar_style": "success",
       "layout": "IPY_MODEL_09ba286bde3c4747ae5711319fa516f5",
       "max": 3,
       "style": "IPY_MODEL_28a3f4ae0b1e465593aa03f2d66ea793",
       "value": 3
      }
     },
     "94378a1962c54dc386cd604af2933a8a": {
      "model_module": "@jupyter-widgets/base",
      "model_module_version": "1.0.0",
      "model_name": "LayoutModel",
      "state": {}
     },
     "94cdbb3d31b74cfd9539debc5cf76e7f": {
      "model_module": "@jupyter-widgets/controls",
      "model_module_version": "1.1.0",
      "model_name": "IntProgressModel",
      "state": {
       "bar_style": "success",
       "layout": "IPY_MODEL_42b637cf5d7a4a258a6120d9aeecedd3",
       "max": 3,
       "style": "IPY_MODEL_b54c6e835f2e45bc822632d4f07c8007",
       "value": 3
      }
     },
     "9561136a2ec0406eb1e77b0fda68de20": {
      "model_module": "@jupyter-widgets/controls",
      "model_module_version": "1.1.0",
      "model_name": "ProgressStyleModel",
      "state": {
       "description_width": ""
      }
     },
     "960a4415c8fd4b5eb35544b586516310": {
      "model_module": "@jupyter-widgets/base",
      "model_module_version": "1.0.0",
      "model_name": "LayoutModel",
      "state": {}
     },
     "98d6e05d65044239820aecd0f156ecac": {
      "model_module": "@jupyter-widgets/controls",
      "model_module_version": "1.1.0",
      "model_name": "ProgressStyleModel",
      "state": {
       "description_width": ""
      }
     },
     "9a28cbd7a78d4e89a5ab3d9483cd4b50": {
      "model_module": "@jupyter-widgets/controls",
      "model_module_version": "1.1.0",
      "model_name": "HBoxModel",
      "state": {
       "children": [
        "IPY_MODEL_38f2d27ab2194509a8a0710383b56478",
        "IPY_MODEL_50757fc700da433f9740767155f4ed1a"
       ],
       "layout": "IPY_MODEL_7b2896b22f8a4351a0b94c180cb019e4"
      }
     },
     "9a2bec05b9bc4518aa23e1dd64452b6b": {
      "model_module": "@jupyter-widgets/base",
      "model_module_version": "1.0.0",
      "model_name": "LayoutModel",
      "state": {}
     },
     "9aa8417fb7db414d9d0a027d04abf56b": {
      "model_module": "@jupyter-widgets/base",
      "model_module_version": "1.0.0",
      "model_name": "LayoutModel",
      "state": {}
     },
     "9d04080a53b84763b8fad1879e486b25": {
      "model_module": "@jupyter-widgets/controls",
      "model_module_version": "1.1.0",
      "model_name": "HBoxModel",
      "state": {
       "children": [
        "IPY_MODEL_a89853ee23b44f8c96864495a30f03c7",
        "IPY_MODEL_f3f647c07c8542b3aba2404999aa3507"
       ],
       "layout": "IPY_MODEL_1cff5228b35e4eb2936bc4b479e995e6"
      }
     },
     "9d160106300646d3952834a099b8cd55": {
      "model_module": "@jupyter-widgets/base",
      "model_module_version": "1.0.0",
      "model_name": "LayoutModel",
      "state": {}
     },
     "9ed36e84d44b4aadb4a3526a3b287473": {
      "model_module": "@jupyter-widgets/controls",
      "model_module_version": "1.1.0",
      "model_name": "DescriptionStyleModel",
      "state": {
       "description_width": ""
      }
     },
     "9fbf76b20e3e4b03b7019d93af63a40d": {
      "model_module": "@jupyter-widgets/base",
      "model_module_version": "1.0.0",
      "model_name": "LayoutModel",
      "state": {}
     },
     "9fefd76e35774e8c86897e94904ed531": {
      "model_module": "@jupyter-widgets/base",
      "model_module_version": "1.0.0",
      "model_name": "LayoutModel",
      "state": {}
     },
     "a0711247cca442c58d04eb675feceb33": {
      "model_module": "@jupyter-widgets/controls",
      "model_module_version": "1.1.0",
      "model_name": "ProgressStyleModel",
      "state": {
       "description_width": ""
      }
     },
     "a11a48c0e5db48bcb76fcbbf6e1fb33f": {
      "model_module": "@jupyter-widgets/base",
      "model_module_version": "1.0.0",
      "model_name": "LayoutModel",
      "state": {}
     },
     "a4d960a3084f42289b1884fdeab0cc85": {
      "model_module": "@jupyter-widgets/base",
      "model_module_version": "1.0.0",
      "model_name": "LayoutModel",
      "state": {}
     },
     "a89853ee23b44f8c96864495a30f03c7": {
      "model_module": "@jupyter-widgets/controls",
      "model_module_version": "1.1.0",
      "model_name": "IntProgressModel",
      "state": {
       "bar_style": "danger",
       "layout": "IPY_MODEL_aed2969b36ad40bd81759b3653e192d5",
       "max": 3,
       "style": "IPY_MODEL_10e6803a024341f9aa7bc5ef299d9aa5"
      }
     },
     "aa4e5a11a10a4311ae8fadcdeebf6b8b": {
      "model_module": "@jupyter-widgets/controls",
      "model_module_version": "1.1.0",
      "model_name": "HTMLModel",
      "state": {
       "layout": "IPY_MODEL_086fafd75042404386620d1a346a55b4",
       "style": "IPY_MODEL_54481ded5ee5403fb4c9ba0fb8c3dce0",
       "value": "100% 3/3 [00:00&lt;00:00,  6.73it/s]"
      }
     },
     "abf6d646d63d4c7bac072867520ef70e": {
      "model_module": "@jupyter-widgets/base",
      "model_module_version": "1.0.0",
      "model_name": "LayoutModel",
      "state": {}
     },
     "ae3d39ee4de046b6be1053eb29465bc3": {
      "model_module": "@jupyter-widgets/base",
      "model_module_version": "1.0.0",
      "model_name": "LayoutModel",
      "state": {}
     },
     "aed2969b36ad40bd81759b3653e192d5": {
      "model_module": "@jupyter-widgets/base",
      "model_module_version": "1.0.0",
      "model_name": "LayoutModel",
      "state": {}
     },
     "aeebcf9c71ee4fea9862c061d2ef98fa": {
      "model_module": "@jupyter-widgets/controls",
      "model_module_version": "1.1.0",
      "model_name": "IntProgressModel",
      "state": {
       "bar_style": "success",
       "layout": "IPY_MODEL_c5bbc0c75e8a462a882381ad28cbfe7f",
       "max": 3,
       "style": "IPY_MODEL_5e4d18718c864bf8b8ea7143e03e9527",
       "value": 3
      }
     },
     "b1079b2a01324fb9b0a58b9ba2024875": {
      "model_module": "@jupyter-widgets/controls",
      "model_module_version": "1.1.0",
      "model_name": "HBoxModel",
      "state": {
       "children": [
        "IPY_MODEL_76ddc7a5718d49e5a68585af14586792",
        "IPY_MODEL_521be4699f7e4b05a6f7f8d71a46c81a"
       ],
       "layout": "IPY_MODEL_0ba3de344c3f458cab132f59ecfc20cc"
      }
     },
     "b1531c8d79524ef9b4aec530a07d5938": {
      "model_module": "@jupyter-widgets/controls",
      "model_module_version": "1.1.0",
      "model_name": "HTMLModel",
      "state": {
       "layout": "IPY_MODEL_9aa8417fb7db414d9d0a027d04abf56b",
       "style": "IPY_MODEL_015852f165a84f31a97bb8aa2796405a",
       "value": "400it [00:00, 7575.08it/s]"
      }
     },
     "b1ae0837baaf43bfbc73eeed4bc79068": {
      "model_module": "@jupyter-widgets/base",
      "model_module_version": "1.0.0",
      "model_name": "LayoutModel",
      "state": {}
     },
     "b2486ef85a014d3482d18c35f94c0eb0": {
      "model_module": "@jupyter-widgets/controls",
      "model_module_version": "1.1.0",
      "model_name": "ProgressStyleModel",
      "state": {
       "description_width": ""
      }
     },
     "b257c529f99e4fe19e21b645b8b2ee3d": {
      "model_module": "@jupyter-widgets/controls",
      "model_module_version": "1.1.0",
      "model_name": "DescriptionStyleModel",
      "state": {
       "description_width": ""
      }
     },
     "b280c3d427c74b3b90ec7cb98a58bc2e": {
      "model_module": "@jupyter-widgets/controls",
      "model_module_version": "1.1.0",
      "model_name": "HTMLModel",
      "state": {
       "layout": "IPY_MODEL_0573151b33274245882c9c01c85bc719",
       "style": "IPY_MODEL_5393b198826f4199991c22369da17507",
       "value": "100% 3/3 [00:02&lt;00:00,  1.29it/s]"
      }
     },
     "b32f381f773548b282dd7f8fbed4d3e9": {
      "model_module": "@jupyter-widgets/controls",
      "model_module_version": "1.1.0",
      "model_name": "DescriptionStyleModel",
      "state": {
       "description_width": ""
      }
     },
     "b46e6876e5914a7485bfee2611fb5146": {
      "model_module": "@jupyter-widgets/controls",
      "model_module_version": "1.1.0",
      "model_name": "ProgressStyleModel",
      "state": {
       "description_width": ""
      }
     },
     "b46ff816113048dfa9d599251c1483d1": {
      "model_module": "@jupyter-widgets/controls",
      "model_module_version": "1.1.0",
      "model_name": "IntProgressModel",
      "state": {
       "bar_style": "danger",
       "layout": "IPY_MODEL_71e69ef05b254ed39935107c1adb0e77",
       "max": 7,
       "style": "IPY_MODEL_bf66d24c41e940f2a6a7a80c3c51e4b9"
      }
     },
     "b49b460db8e844bf8ddceeab8aba0504": {
      "model_module": "@jupyter-widgets/controls",
      "model_module_version": "1.1.0",
      "model_name": "DescriptionStyleModel",
      "state": {
       "description_width": ""
      }
     },
     "b4c7f18fdd8d486c97e77769151de643": {
      "model_module": "@jupyter-widgets/controls",
      "model_module_version": "1.1.0",
      "model_name": "HBoxModel",
      "state": {
       "children": [
        "IPY_MODEL_f615bb60ba1649f9b7027454232f1aee",
        "IPY_MODEL_aa4e5a11a10a4311ae8fadcdeebf6b8b"
       ],
       "layout": "IPY_MODEL_75e01534f0c241e3918eb757a0bc24e9"
      }
     },
     "b54c6e835f2e45bc822632d4f07c8007": {
      "model_module": "@jupyter-widgets/controls",
      "model_module_version": "1.1.0",
      "model_name": "ProgressStyleModel",
      "state": {
       "description_width": ""
      }
     },
     "b6f2647c0a904abba4f96d52154c8c1a": {
      "model_module": "@jupyter-widgets/controls",
      "model_module_version": "1.1.0",
      "model_name": "ProgressStyleModel",
      "state": {
       "description_width": ""
      }
     },
     "b8d987d664c144b1b2be674d2a890df9": {
      "model_module": "@jupyter-widgets/base",
      "model_module_version": "1.0.0",
      "model_name": "LayoutModel",
      "state": {}
     },
     "b94a6770bd2a440aa57b7819ddbd5af2": {
      "model_module": "@jupyter-widgets/base",
      "model_module_version": "1.0.0",
      "model_name": "LayoutModel",
      "state": {}
     },
     "ba4877768c684e29aba633c373c285a5": {
      "model_module": "@jupyter-widgets/base",
      "model_module_version": "1.0.0",
      "model_name": "LayoutModel",
      "state": {}
     },
     "ba66e63d806a4dbeb49275ebccf2a27f": {
      "model_module": "@jupyter-widgets/controls",
      "model_module_version": "1.1.0",
      "model_name": "IntProgressModel",
      "state": {
       "bar_style": "success",
       "layout": "IPY_MODEL_9fefd76e35774e8c86897e94904ed531",
       "max": 7,
       "style": "IPY_MODEL_4b3e125881e64d358469e645df4ab270",
       "value": 7
      }
     },
     "bad8e58070ec4fbc9f77ff98dc890e18": {
      "model_module": "@jupyter-widgets/base",
      "model_module_version": "1.0.0",
      "model_name": "LayoutModel",
      "state": {}
     },
     "bafa4366981548b987ddb56da0ba6d7f": {
      "model_module": "@jupyter-widgets/base",
      "model_module_version": "1.0.0",
      "model_name": "LayoutModel",
      "state": {}
     },
     "bafcb6002e38448ba04313aa2beea6ec": {
      "model_module": "@jupyter-widgets/controls",
      "model_module_version": "1.1.0",
      "model_name": "ProgressStyleModel",
      "state": {
       "description_width": ""
      }
     },
     "bb119f3571534747a7bcfcd3cd229085": {
      "model_module": "@jupyter-widgets/controls",
      "model_module_version": "1.1.0",
      "model_name": "HTMLModel",
      "state": {
       "layout": "IPY_MODEL_2566ae65bab94436a737a3032b7dec3a",
       "style": "IPY_MODEL_d4969bf6b1af43ec866904a1339f956d",
       "value": "  0% 0/7 [00:00&lt;?, ?it/s]"
      }
     },
     "bb582dea72cd4684b4cbda7c16fd2d31": {
      "model_module": "@jupyter-widgets/base",
      "model_module_version": "1.0.0",
      "model_name": "LayoutModel",
      "state": {}
     },
     "bbfcd994cc7543d383e13c4059dede91": {
      "model_module": "@jupyter-widgets/controls",
      "model_module_version": "1.1.0",
      "model_name": "HTMLModel",
      "state": {
       "layout": "IPY_MODEL_43f08181d55e4491b7908f6d756a1d3d",
       "style": "IPY_MODEL_bd1318cf24ff4f288cc70c7216cdd3ab",
       "value": "100% 7/7 [00:03&lt;00:00,  2.01it/s]"
      }
     },
     "bd1318cf24ff4f288cc70c7216cdd3ab": {
      "model_module": "@jupyter-widgets/controls",
      "model_module_version": "1.1.0",
      "model_name": "DescriptionStyleModel",
      "state": {
       "description_width": ""
      }
     },
     "bdd9f38df28d44eab0ed63670f5877dd": {
      "model_module": "@jupyter-widgets/controls",
      "model_module_version": "1.1.0",
      "model_name": "DescriptionStyleModel",
      "state": {
       "description_width": ""
      }
     },
     "bf66d24c41e940f2a6a7a80c3c51e4b9": {
      "model_module": "@jupyter-widgets/controls",
      "model_module_version": "1.1.0",
      "model_name": "ProgressStyleModel",
      "state": {
       "description_width": ""
      }
     },
     "bff0907179144edf978565e6adec9280": {
      "model_module": "@jupyter-widgets/controls",
      "model_module_version": "1.1.0",
      "model_name": "HBoxModel",
      "state": {
       "children": [
        "IPY_MODEL_ba66e63d806a4dbeb49275ebccf2a27f",
        "IPY_MODEL_bbfcd994cc7543d383e13c4059dede91"
       ],
       "layout": "IPY_MODEL_07635e12185f4f1cab1d4ea19876294d"
      }
     },
     "c0881ce9998f46a58f54e8d675069938": {
      "model_module": "@jupyter-widgets/controls",
      "model_module_version": "1.1.0",
      "model_name": "DescriptionStyleModel",
      "state": {
       "description_width": ""
      }
     },
     "c2787062f5bf4a90a0edcca179c5ce37": {
      "model_module": "@jupyter-widgets/base",
      "model_module_version": "1.0.0",
      "model_name": "LayoutModel",
      "state": {}
     },
     "c3265ff26e834531b2c43a663ed65e68": {
      "model_module": "@jupyter-widgets/controls",
      "model_module_version": "1.1.0",
      "model_name": "IntProgressModel",
      "state": {
       "layout": "IPY_MODEL_3412f11dd86f4683a587ea591a8d7dd8",
       "max": 12164,
       "style": "IPY_MODEL_67ee7d12dfee4aaeac4af56626f7cca1",
       "value": 1
      }
     },
     "c3794adc7a324e4197b2b9aa51eea5d3": {
      "model_module": "@jupyter-widgets/controls",
      "model_module_version": "1.1.0",
      "model_name": "ProgressStyleModel",
      "state": {
       "description_width": ""
      }
     },
     "c3e67170fae14ad89ac080588eebfd9f": {
      "model_module": "@jupyter-widgets/controls",
      "model_module_version": "1.1.0",
      "model_name": "ProgressStyleModel",
      "state": {
       "description_width": ""
      }
     },
     "c40f4071f2434511b412dc2cbeeded72": {
      "model_module": "@jupyter-widgets/base",
      "model_module_version": "1.0.0",
      "model_name": "LayoutModel",
      "state": {}
     },
     "c423c154007543baa5694593f13c6c8a": {
      "model_module": "@jupyter-widgets/controls",
      "model_module_version": "1.1.0",
      "model_name": "HBoxModel",
      "state": {
       "children": [
        "IPY_MODEL_3a0885f563134783903f64a356fcea20",
        "IPY_MODEL_82a459fdc15040228e11c16ecc43b5e8"
       ],
       "layout": "IPY_MODEL_7d45c8e696b54527bc7951f559266ce9"
      }
     },
     "c4ed0315feba47b3831e3df3e6199a27": {
      "model_module": "@jupyter-widgets/controls",
      "model_module_version": "1.1.0",
      "model_name": "HTMLModel",
      "state": {
       "layout": "IPY_MODEL_51bcf7af85ae403ca4fed10580cdccf5",
       "style": "IPY_MODEL_c0881ce9998f46a58f54e8d675069938",
       "value": "  0% 0/7 [00:00&lt;?, ?it/s]"
      }
     },
     "c5bbc0c75e8a462a882381ad28cbfe7f": {
      "model_module": "@jupyter-widgets/base",
      "model_module_version": "1.0.0",
      "model_name": "LayoutModel",
      "state": {}
     },
     "c6465d82e0614d358000153e0e56b86f": {
      "model_module": "@jupyter-widgets/base",
      "model_module_version": "1.0.0",
      "model_name": "LayoutModel",
      "state": {}
     },
     "c95be3cbe42f49f5ac49e18cdb82b096": {
      "model_module": "@jupyter-widgets/controls",
      "model_module_version": "1.1.0",
      "model_name": "HBoxModel",
      "state": {
       "children": [
        "IPY_MODEL_94300e08822947e39bb37c1959ce5339",
        "IPY_MODEL_0ec4879e32a744abab780793d84e4614"
       ],
       "layout": "IPY_MODEL_2703884e45ca42e2ac99d8b53e858a54"
      }
     },
     "cb79589cadc247b5b976e0fa8e027166": {
      "model_module": "@jupyter-widgets/controls",
      "model_module_version": "1.1.0",
      "model_name": "IntProgressModel",
      "state": {
       "bar_style": "success",
       "layout": "IPY_MODEL_a11a48c0e5db48bcb76fcbbf6e1fb33f",
       "max": 3,
       "style": "IPY_MODEL_ffc9392c05824be884fad48bf5ddc7f7",
       "value": 3
      }
     },
     "cc5a2f160d844ad8be1d4ef734f581b9": {
      "model_module": "@jupyter-widgets/controls",
      "model_module_version": "1.1.0",
      "model_name": "HBoxModel",
      "state": {
       "children": [
        "IPY_MODEL_e5966e4c17c643dcafdd34ad142b8c6d",
        "IPY_MODEL_bb119f3571534747a7bcfcd3cd229085"
       ],
       "layout": "IPY_MODEL_dc2de10f003844fa916e571577d5f03c"
      }
     },
     "cc7c425c98674de3a4413769423ec5b1": {
      "model_module": "@jupyter-widgets/controls",
      "model_module_version": "1.1.0",
      "model_name": "IntProgressModel",
      "state": {
       "bar_style": "success",
       "layout": "IPY_MODEL_c6465d82e0614d358000153e0e56b86f",
       "max": 1,
       "style": "IPY_MODEL_bafcb6002e38448ba04313aa2beea6ec",
       "value": 1
      }
     },
     "cca317c483264b739192e9a0d6cbf54c": {
      "model_module": "@jupyter-widgets/base",
      "model_module_version": "1.0.0",
      "model_name": "LayoutModel",
      "state": {}
     },
     "ce0d370e37654d6a9aad90c3f369d4f7": {
      "model_module": "@jupyter-widgets/controls",
      "model_module_version": "1.1.0",
      "model_name": "IntProgressModel",
      "state": {
       "bar_style": "success",
       "layout": "IPY_MODEL_5cc3b949e02d4ce0a5ddb1e6cd23004b",
       "max": 3,
       "style": "IPY_MODEL_85eece508db54c7da5bba0002a103690",
       "value": 3
      }
     },
     "d0bc22d4072f4cf79ffb5e4ec63e979e": {
      "model_module": "@jupyter-widgets/base",
      "model_module_version": "1.0.0",
      "model_name": "LayoutModel",
      "state": {}
     },
     "d19572c6d8a8401daab49990b34a13ce": {
      "model_module": "@jupyter-widgets/controls",
      "model_module_version": "1.1.0",
      "model_name": "HBoxModel",
      "state": {
       "children": [
        "IPY_MODEL_c3265ff26e834531b2c43a663ed65e68",
        "IPY_MODEL_87ea8246db1a45e48f8cd8dc1e3ef9d7"
       ],
       "layout": "IPY_MODEL_8deb2365ead04bf0b43b7296fb5636a6"
      }
     },
     "d29e8bc18d7e492a8226966ff204dd3c": {
      "model_module": "@jupyter-widgets/base",
      "model_module_version": "1.0.0",
      "model_name": "LayoutModel",
      "state": {}
     },
     "d428a604bf2c4e7da44afebc0d2314bd": {
      "model_module": "@jupyter-widgets/controls",
      "model_module_version": "1.1.0",
      "model_name": "HBoxModel",
      "state": {
       "children": [
        "IPY_MODEL_76d9ee54711646fa9d6e87edd64db04e",
        "IPY_MODEL_6128a430fa124a87933dbfca4d614063"
       ],
       "layout": "IPY_MODEL_9a2bec05b9bc4518aa23e1dd64452b6b"
      }
     },
     "d4969bf6b1af43ec866904a1339f956d": {
      "model_module": "@jupyter-widgets/controls",
      "model_module_version": "1.1.0",
      "model_name": "DescriptionStyleModel",
      "state": {
       "description_width": ""
      }
     },
     "d4fba215168348c79a8e6fc57e0501cc": {
      "model_module": "@jupyter-widgets/controls",
      "model_module_version": "1.1.0",
      "model_name": "HBoxModel",
      "state": {
       "children": [
        "IPY_MODEL_508f1bad724c4920bf2d138fe97085b6",
        "IPY_MODEL_5901472a341c4cd3888c2e01ffe2f224"
       ],
       "layout": "IPY_MODEL_fd96013c25ed4527a152798f24340aa8"
      }
     },
     "d4ff7df726ba4463b9644d15f15f2ea2": {
      "model_module": "@jupyter-widgets/base",
      "model_module_version": "1.0.0",
      "model_name": "LayoutModel",
      "state": {}
     },
     "d5901ba106884c0e8fcefa29d7e37026": {
      "model_module": "@jupyter-widgets/controls",
      "model_module_version": "1.1.0",
      "model_name": "HBoxModel",
      "state": {
       "children": [
        "IPY_MODEL_dd45b25e8faf4c4d992884751c816603",
        "IPY_MODEL_d7e0e0aa7f57457bbd5fa4ad60b35176"
       ],
       "layout": "IPY_MODEL_152486fe282a4a7c9a698f9def009b10"
      }
     },
     "d6656e3cb1574741a1c440c189648834": {
      "model_module": "@jupyter-widgets/base",
      "model_module_version": "1.0.0",
      "model_name": "LayoutModel",
      "state": {}
     },
     "d7e0e0aa7f57457bbd5fa4ad60b35176": {
      "model_module": "@jupyter-widgets/controls",
      "model_module_version": "1.1.0",
      "model_name": "HTMLModel",
      "state": {
       "layout": "IPY_MODEL_b94a6770bd2a440aa57b7819ddbd5af2",
       "style": "IPY_MODEL_803fd5c87c074deb9f5d2da615792ec2",
       "value": "100% 3/3 [00:00&lt;00:00, 11.87it/s]"
      }
     },
     "d7e5dd192c3b4ff3b7908ce726b32b9e": {
      "model_module": "@jupyter-widgets/base",
      "model_module_version": "1.0.0",
      "model_name": "LayoutModel",
      "state": {}
     },
     "d82de137e1a74560878f14b60c5605af": {
      "model_module": "@jupyter-widgets/controls",
      "model_module_version": "1.1.0",
      "model_name": "ProgressStyleModel",
      "state": {
       "description_width": ""
      }
     },
     "d842edc7d8414b0facf5e252119cc5d9": {
      "model_module": "@jupyter-widgets/controls",
      "model_module_version": "1.1.0",
      "model_name": "DescriptionStyleModel",
      "state": {
       "description_width": ""
      }
     },
     "d897e6dd4279446d8b5692554e65d8d7": {
      "model_module": "@jupyter-widgets/controls",
      "model_module_version": "1.1.0",
      "model_name": "DescriptionStyleModel",
      "state": {
       "description_width": ""
      }
     },
     "d910933a50894e8380cefe140123821e": {
      "model_module": "@jupyter-widgets/controls",
      "model_module_version": "1.1.0",
      "model_name": "HTMLModel",
      "state": {
       "layout": "IPY_MODEL_67740ea901d941e5ab38512e7eb56c9a",
       "style": "IPY_MODEL_9ed36e84d44b4aadb4a3526a3b287473",
       "value": "  0% 0/3 [00:00&lt;?, ?it/s]"
      }
     },
     "d9686e5f502d449798e2598f198e8e40": {
      "model_module": "@jupyter-widgets/base",
      "model_module_version": "1.0.0",
      "model_name": "LayoutModel",
      "state": {}
     },
     "dc2de10f003844fa916e571577d5f03c": {
      "model_module": "@jupyter-widgets/base",
      "model_module_version": "1.0.0",
      "model_name": "LayoutModel",
      "state": {}
     },
     "dc44de44866d4898839d388792fb288f": {
      "model_module": "@jupyter-widgets/controls",
      "model_module_version": "1.1.0",
      "model_name": "DescriptionStyleModel",
      "state": {
       "description_width": ""
      }
     },
     "dc5a6615efeb42eebbf7a13a3926631f": {
      "model_module": "@jupyter-widgets/base",
      "model_module_version": "1.0.0",
      "model_name": "LayoutModel",
      "state": {}
     },
     "dc8bf6d80b0f4e4f982a26a22f4013b5": {
      "model_module": "@jupyter-widgets/controls",
      "model_module_version": "1.1.0",
      "model_name": "HBoxModel",
      "state": {
       "children": [
        "IPY_MODEL_7025f3162b8f4388affcbec5daae642a",
        "IPY_MODEL_0258c2b087ab4e379ef7d445b5764f6f"
       ],
       "layout": "IPY_MODEL_1dfa9f99a4bc4c379e0a54ee31a724c1"
      }
     },
     "dd37b8f1878542688433d331c7d187c7": {
      "model_module": "@jupyter-widgets/controls",
      "model_module_version": "1.1.0",
      "model_name": "HBoxModel",
      "state": {
       "children": [
        "IPY_MODEL_2096f8154219402b8524f607ff57c532",
        "IPY_MODEL_d910933a50894e8380cefe140123821e"
       ],
       "layout": "IPY_MODEL_d4ff7df726ba4463b9644d15f15f2ea2"
      }
     },
     "dd45b25e8faf4c4d992884751c816603": {
      "model_module": "@jupyter-widgets/controls",
      "model_module_version": "1.1.0",
      "model_name": "IntProgressModel",
      "state": {
       "bar_style": "success",
       "layout": "IPY_MODEL_4d9fc413a4594114912c37a2cdf7fe41",
       "max": 3,
       "style": "IPY_MODEL_4246173979454075b83a0ab310abfb6f",
       "value": 3
      }
     },
     "dd4a840546414060bb76d1162687d651": {
      "model_module": "@jupyter-widgets/controls",
      "model_module_version": "1.1.0",
      "model_name": "DescriptionStyleModel",
      "state": {
       "description_width": ""
      }
     },
     "de3ff4337cc241b5b3fd3dcce9cf5315": {
      "model_module": "@jupyter-widgets/base",
      "model_module_version": "1.0.0",
      "model_name": "LayoutModel",
      "state": {}
     },
     "ded7b4b77d7940bc8a9f63205760d44d": {
      "model_module": "@jupyter-widgets/base",
      "model_module_version": "1.0.0",
      "model_name": "LayoutModel",
      "state": {}
     },
     "df8fe7c3e7f84d5194f5bbb4238e7e73": {
      "model_module": "@jupyter-widgets/controls",
      "model_module_version": "1.1.0",
      "model_name": "HTMLModel",
      "state": {
       "layout": "IPY_MODEL_f58c87dcdd274ce69f3b20df09ed2fa3",
       "style": "IPY_MODEL_715a3bbf6f82492ea7213e034ccbc82e",
       "value": "100% 7/7 [00:03&lt;00:00,  2.04it/s]"
      }
     },
     "dfaa8f9fc4334137b3f0c575f0bdd1ce": {
      "model_module": "@jupyter-widgets/controls",
      "model_module_version": "1.1.0",
      "model_name": "DescriptionStyleModel",
      "state": {
       "description_width": ""
      }
     },
     "e07a9888746f4b509c4c3e58bc24e110": {
      "model_module": "@jupyter-widgets/controls",
      "model_module_version": "1.1.0",
      "model_name": "DescriptionStyleModel",
      "state": {
       "description_width": ""
      }
     },
     "e0f0a97013ef42009b4ed5594329f551": {
      "model_module": "@jupyter-widgets/controls",
      "model_module_version": "1.1.0",
      "model_name": "IntProgressModel",
      "state": {
       "bar_style": "success",
       "layout": "IPY_MODEL_7fbb8fb102e641639dfe81c037707d96",
       "max": 7,
       "style": "IPY_MODEL_877eaaa58de9452ca59db465dcd77de9",
       "value": 7
      }
     },
     "e1464b634744403dbd57ddce696f4a1b": {
      "model_module": "@jupyter-widgets/controls",
      "model_module_version": "1.1.0",
      "model_name": "HBoxModel",
      "state": {
       "children": [
        "IPY_MODEL_cc7c425c98674de3a4413769423ec5b1",
        "IPY_MODEL_142ec25f73964588b6e1847f6e223f96"
       ],
       "layout": "IPY_MODEL_912a8131468e4d58a75277f2d43c41c3"
      }
     },
     "e1dc283e79d9492e892c74c6ecad2e09": {
      "model_module": "@jupyter-widgets/controls",
      "model_module_version": "1.1.0",
      "model_name": "HBoxModel",
      "state": {
       "children": [
        "IPY_MODEL_8bcedba03f3840ab92cbb5fb24350d27",
        "IPY_MODEL_003b8c62b27743219f845a018bf3f75a"
       ],
       "layout": "IPY_MODEL_74a27c3645e94b98be8de6aa9ea319b7"
      }
     },
     "e343332ca4f247198221a25f1bf71dad": {
      "model_module": "@jupyter-widgets/base",
      "model_module_version": "1.0.0",
      "model_name": "LayoutModel",
      "state": {}
     },
     "e56c07fd5a7548bcbdcb09970fbe6f1f": {
      "model_module": "@jupyter-widgets/base",
      "model_module_version": "1.0.0",
      "model_name": "LayoutModel",
      "state": {}
     },
     "e5966e4c17c643dcafdd34ad142b8c6d": {
      "model_module": "@jupyter-widgets/controls",
      "model_module_version": "1.1.0",
      "model_name": "IntProgressModel",
      "state": {
       "layout": "IPY_MODEL_bad8e58070ec4fbc9f77ff98dc890e18",
       "max": 7,
       "style": "IPY_MODEL_519d07e3dcab47c0acf1dfdcf6f4c330"
      }
     },
     "e71ce7c9aef242a880ccbcf3b50ea0cc": {
      "model_module": "@jupyter-widgets/base",
      "model_module_version": "1.0.0",
      "model_name": "LayoutModel",
      "state": {}
     },
     "e7f9ce5b339f492c859cae0532f6fcce": {
      "model_module": "@jupyter-widgets/base",
      "model_module_version": "1.0.0",
      "model_name": "LayoutModel",
      "state": {}
     },
     "ea4ba5e1461a4f87ae69292206116951": {
      "model_module": "@jupyter-widgets/base",
      "model_module_version": "1.0.0",
      "model_name": "LayoutModel",
      "state": {}
     },
     "eaa6f690c048498ab98af6c88692629e": {
      "model_module": "@jupyter-widgets/controls",
      "model_module_version": "1.1.0",
      "model_name": "DescriptionStyleModel",
      "state": {
       "description_width": ""
      }
     },
     "eff260bbc016439595551c53a310539b": {
      "model_module": "@jupyter-widgets/base",
      "model_module_version": "1.0.0",
      "model_name": "LayoutModel",
      "state": {}
     },
     "f0cac51fcbba4b4fa21d93269eadfd4a": {
      "model_module": "@jupyter-widgets/controls",
      "model_module_version": "1.1.0",
      "model_name": "HTMLModel",
      "state": {
       "layout": "IPY_MODEL_e71ce7c9aef242a880ccbcf3b50ea0cc",
       "style": "IPY_MODEL_116a531c7e5d4144b57998704311e27c",
       "value": "  0% 0/3 [00:00&lt;?, ?it/s]"
      }
     },
     "f16fb91dfee449efb43ad04e6ec0d277": {
      "model_module": "@jupyter-widgets/controls",
      "model_module_version": "1.1.0",
      "model_name": "HBoxModel",
      "state": {
       "children": [
        "IPY_MODEL_902f109a1e044619a6f8402827d354d6",
        "IPY_MODEL_7830312026e24908a82393296b0cb56c"
       ],
       "layout": "IPY_MODEL_5a49b76acace423ba4e476adf1455713"
      }
     },
     "f3f647c07c8542b3aba2404999aa3507": {
      "model_module": "@jupyter-widgets/controls",
      "model_module_version": "1.1.0",
      "model_name": "HTMLModel",
      "state": {
       "layout": "IPY_MODEL_d0bc22d4072f4cf79ffb5e4ec63e979e",
       "style": "IPY_MODEL_b49b460db8e844bf8ddceeab8aba0504",
       "value": "  0% 0/3 [00:00&lt;?, ?it/s]"
      }
     },
     "f4cbe9c234cf44f4afc86b63de745cdd": {
      "model_module": "@jupyter-widgets/controls",
      "model_module_version": "1.1.0",
      "model_name": "DescriptionStyleModel",
      "state": {
       "description_width": ""
      }
     },
     "f58c87dcdd274ce69f3b20df09ed2fa3": {
      "model_module": "@jupyter-widgets/base",
      "model_module_version": "1.0.0",
      "model_name": "LayoutModel",
      "state": {}
     },
     "f615bb60ba1649f9b7027454232f1aee": {
      "model_module": "@jupyter-widgets/controls",
      "model_module_version": "1.1.0",
      "model_name": "IntProgressModel",
      "state": {
       "bar_style": "success",
       "layout": "IPY_MODEL_dc5a6615efeb42eebbf7a13a3926631f",
       "max": 3,
       "style": "IPY_MODEL_7ed1b5de973d4bd4a1259a3886f88b17",
       "value": 3
      }
     },
     "f6e95bd2d29e49e18caf0e7373437874": {
      "model_module": "@jupyter-widgets/controls",
      "model_module_version": "1.1.0",
      "model_name": "ProgressStyleModel",
      "state": {
       "description_width": ""
      }
     },
     "f77601632c7e40c0934ba36de4f96c55": {
      "model_module": "@jupyter-widgets/controls",
      "model_module_version": "1.1.0",
      "model_name": "DescriptionStyleModel",
      "state": {
       "description_width": ""
      }
     },
     "f8d4e572dcc140659ce9943032feafe8": {
      "model_module": "@jupyter-widgets/controls",
      "model_module_version": "1.1.0",
      "model_name": "IntProgressModel",
      "state": {
       "bar_style": "danger",
       "layout": "IPY_MODEL_70590ca46777484c9fc2186def3523ee",
       "max": 3,
       "style": "IPY_MODEL_5f70f2fd11264239bc39a27b12011ad2"
      }
     },
     "fa14a784f822461093f4028b9dc03086": {
      "model_module": "@jupyter-widgets/controls",
      "model_module_version": "1.1.0",
      "model_name": "DescriptionStyleModel",
      "state": {
       "description_width": ""
      }
     },
     "fa33e4585a9240578747cae97ddb306e": {
      "model_module": "@jupyter-widgets/base",
      "model_module_version": "1.0.0",
      "model_name": "LayoutModel",
      "state": {}
     },
     "fb906ed4ebdd4f8b9347a11b31a81c0d": {
      "model_module": "@jupyter-widgets/controls",
      "model_module_version": "1.1.0",
      "model_name": "HTMLModel",
      "state": {
       "layout": "IPY_MODEL_6ca5a3ad20b54db5ba729e44d4297839",
       "style": "IPY_MODEL_637fd5b0a9a54b7eb86edf27d8675369",
       "value": "100% 3/3 [00:00&lt;00:00, 12.04it/s]"
      }
     },
     "fc206fcdc9db48dc8d5f923a36eeb2dc": {
      "model_module": "@jupyter-widgets/controls",
      "model_module_version": "1.1.0",
      "model_name": "HBoxModel",
      "state": {
       "children": [
        "IPY_MODEL_aeebcf9c71ee4fea9862c061d2ef98fa",
        "IPY_MODEL_8240f6853f0d4fa2aee9ede063c55509"
       ],
       "layout": "IPY_MODEL_6c491e42e0fc4c83811e3308f5ff46f1"
      }
     },
     "fc6e378efdce4d989dd9d8b7e1e11e35": {
      "model_module": "@jupyter-widgets/base",
      "model_module_version": "1.0.0",
      "model_name": "LayoutModel",
      "state": {}
     },
     "fca1736c4b1d49ef88c6e04e89443ac2": {
      "model_module": "@jupyter-widgets/controls",
      "model_module_version": "1.1.0",
      "model_name": "DescriptionStyleModel",
      "state": {
       "description_width": ""
      }
     },
     "fd96013c25ed4527a152798f24340aa8": {
      "model_module": "@jupyter-widgets/base",
      "model_module_version": "1.0.0",
      "model_name": "LayoutModel",
      "state": {}
     },
     "fe863f2abb53408a875e76f00153990d": {
      "model_module": "@jupyter-widgets/controls",
      "model_module_version": "1.1.0",
      "model_name": "IntProgressModel",
      "state": {
       "bar_style": "success",
       "layout": "IPY_MODEL_1a06fc5211d64edb8edae6544c3c2df7",
       "max": 3,
       "style": "IPY_MODEL_c3e67170fae14ad89ac080588eebfd9f",
       "value": 3
      }
     },
     "ffc9392c05824be884fad48bf5ddc7f7": {
      "model_module": "@jupyter-widgets/controls",
      "model_module_version": "1.1.0",
      "model_name": "ProgressStyleModel",
      "state": {
       "description_width": ""
      }
     }
    },
    "version_major": 2,
    "version_minor": 0
   }
  }
 },
 "nbformat": 4,
 "nbformat_minor": 2
}
