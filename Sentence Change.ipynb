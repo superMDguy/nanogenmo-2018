{
 "cells": [
  {
   "cell_type": "code",
   "execution_count": 1,
   "metadata": {},
   "outputs": [],
   "source": [
    "%matplotlib inline\n",
    "from InferSent.models import InferSent\n",
    "import numpy as np\n",
    "import torch\n",
    "import os\n",
    "from random import choice\n",
    "from tqdm import tqdm_notebook as tqdm\n",
    "from sklearn.metrics.pairwise import pairwise_distances\n",
    "from annoy import AnnoyIndex\n",
    "import re"
   ]
  },
  {
   "cell_type": "markdown",
   "metadata": {},
   "source": [
    "# Load `InferSent` Model"
   ]
  },
  {
   "cell_type": "code",
   "execution_count": 2,
   "metadata": {},
   "outputs": [],
   "source": [
    "MODEL_PATH = 'InferSent/encoder/infersent2.pkl'\n",
    "params = {'bsize': 256, 'word_emb_dim': 300, 'enc_lstm_dim': 2048,\n",
    "            'pool_type': 'max', 'dpout_model': 0.0, 'version': 2}\n",
    "model = InferSent(params).cuda()\n",
    "model.load_state_dict(torch.load(MODEL_PATH))"
   ]
  },
  {
   "cell_type": "code",
   "execution_count": 3,
   "metadata": {},
   "outputs": [],
   "source": [
    "W2V_PATH = 'InferSent/dataset/fastText/crawl-300d-2M.vec'\n",
    "model.set_w2v_path(W2V_PATH)"
   ]
  },
  {
   "cell_type": "markdown",
   "metadata": {},
   "source": [
    "# Load Books"
   ]
  },
  {
   "cell_type": "code",
   "execution_count": 4,
   "metadata": {},
   "outputs": [],
   "source": [
    "prefix = '/mnt/bigfiles/dl/datasets/Gutenberg/'\n",
    "books = os.listdir(prefix)"
   ]
  },
  {
   "cell_type": "code",
   "execution_count": 5,
   "metadata": {},
   "outputs": [],
   "source": [
    "def get_corpus(author):\n",
    "    corpus = ''\n",
    "    \n",
    "    for book in books:\n",
    "        if f'{author}__' in book:\n",
    "            corpus += open(prefix + book).read() + '\\n\\n'\n",
    "    return corpus"
   ]
  },
  {
   "cell_type": "code",
   "execution_count": 6,
   "metadata": {},
   "outputs": [],
   "source": [
    "NEWLINE = '<NEWLINE>'\n",
    "def tokenize_sentences(text):\n",
    "    open('/tmp/in.txt', 'w').write(text.replace('\\n\\n', NEWLINE))\n",
    "    os.system('/mnt/bigfiles/dl/datasets/stanford-parser-full-2017-06-09/tokenize_sent.sh')\n",
    "    tokens = open('/tmp/out.txt').read().split('\\n')\n",
    "    print('Total tokens in dataset', len(tokens))\n",
    "\n",
    "    return [token for token in tokens if len(token) > 0]"
   ]
  },
  {
   "cell_type": "code",
   "execution_count": 7,
   "metadata": {},
   "outputs": [],
   "source": [
    "def detokenize_sentences(sentences):\n",
    "    open('/tmp/in.txt', 'w').write(' '.join(sentences).replace(NEWLINE, '\\n\\n'))\n",
    "    os.system('/mnt/bigfiles/dl/datasets/stanford-parser-full-2017-06-09/detokenize.sh')\n",
    "    \n",
    "    return open('/tmp/out.txt').read()"
   ]
  },
  {
   "cell_type": "markdown",
   "metadata": {},
   "source": [
    "# Change Books"
   ]
  },
  {
   "cell_type": "code",
   "execution_count": 26,
   "metadata": {},
   "outputs": [],
   "source": [
    "def change_book(toChange, source, withTranslation = True, useAnnoy = False, maxChars = 5000000):\n",
    "    toChangeSent = tokenize_sentences(toChange)\n",
    "    sourceSent = tokenize_sentences(source[:maxChars])\n",
    "    \n",
    "    model.build_vocab(toChangeSent + sourceSent, tokenize=True)\n",
    "    \n",
    "    toChangeVecs = model.encode(toChangeSent, tokenize=True)\n",
    "    sourceVecs = model.encode(sourceSent, tokenize=True)\n",
    "    \n",
    "    changed = []\n",
    "    \n",
    "    if useAnnoy:\n",
    "        print('Building index...')\n",
    "        index = AnnoyIndex(len(sourceVecs[0]), metric='dot')\n",
    "        for (i, vec) in enumerate(sourceVecs):\n",
    "            index.add_item(i, vec)\n",
    "        index.build(25)\n",
    "\n",
    "        for lineVec in tqdm(toChangeVecs):\n",
    "            closestIdx = index.get_nns_by_vector(lineVec, 1)[0]\n",
    "            changed.append(sourceSent[closestIdx])\n",
    "    else:\n",
    "        print('Computing pairwise cosine distances...')\n",
    "        distances = pairwise_distances(toChangeVecs, sourceVecs, metric='cosine', n_jobs=-1)\n",
    "        \n",
    "        for i in tqdm(range(len(toChangeVecs))):\n",
    "            if withTranslation:\n",
    "                changed.append(toChangeSent[i])\n",
    " \n",
    "            sentence_distances = np.array([distances[i, j] for j in range(len(sourceVecs))])\n",
    "            closestIdx = np.argmin(sentence_distances)\n",
    "            changed.append(sourceSent[closestIdx])\n",
    "            \n",
    "           \n",
    "    \n",
    "    if withTranslation:\n",
    "        out = ''\n",
    "        punctuationRe = re.compile(r' ([^\\w\\d\\s])')\n",
    "        for i, line in enumerate(changed):\n",
    "            cleaned = punctuationRe.sub(r'\\1', line.replace(NEWLINE, '')).replace('\\n', '')\n",
    "\n",
    "            if i % 2 == 0:\n",
    "                out += f'_{cleaned.strip()}_<br/>'\n",
    "            else:\n",
    "                out += f'{cleaned}\\n\\n'\n",
    "        return out\n",
    "    else:\n",
    "        return detokenize_sentences(changed)"
   ]
  },
  {
   "cell_type": "code",
   "execution_count": 41,
   "metadata": {},
   "outputs": [],
   "source": [
    "def write_file(name, title, withTranslation=True):\n",
    "    header = ''\n",
    "    if withTranslation:\n",
    "        header = f'# {title}\\n' \n",
    "        header += '## Matthew Dangerfield\\n'\n",
    "        header += '_NaNoGenMo, 2018_\\n<br/>'\n",
    "        header += '**Original text is in italics, followed by the translated version**\\n\\n'\n",
    "        open(f'{name}.md', 'w').write(header + changed)\n",
    "    else:\n",
    "        header = f'% {title}\\n' + \\\n",
    "        '% Matthew Dangerfield\\n' + \\\n",
    "        '% NaNoGenMo, 2018\\n'\n",
    "        \n",
    "        open('/tmp/out.txt', 'w').write(header + changed)\n",
    "        os.system(f'pandoc /tmp/out.txt -o {name}.pdf')\n",
    "    print('Words: ', len(changed.split(' ')))"
   ]
  },
  {
   "cell_type": "code",
   "execution_count": 42,
   "metadata": {},
   "outputs": [
    {
     "name": "stdout",
     "output_type": "stream",
     "text": [
      "Total tokens in dataset 3615\n",
      "Total tokens in dataset 54092\n",
      "Found 32402(/35548) words with w2v vectors\n",
      "Vocab size : 32402\n",
      "Computing pairwise cosine distances...\n"
     ]
    },
    {
     "data": {
      "application/vnd.jupyter.widget-view+json": {
       "model_id": "ee07f03a590841559f6e508eaf436fbc",
       "version_major": 2,
       "version_minor": 0
      },
      "text/html": [
       "<p>Failed to display Jupyter Widget of type <code>HBox</code>.</p>\n",
       "<p>\n",
       "  If you're reading this message in the Jupyter Notebook or JupyterLab Notebook, it may mean\n",
       "  that the widgets JavaScript is still loading. If this message persists, it\n",
       "  likely means that the widgets JavaScript library is either not installed or\n",
       "  not enabled. See the <a href=\"https://ipywidgets.readthedocs.io/en/stable/user_install.html\">Jupyter\n",
       "  Widgets Documentation</a> for setup instructions.\n",
       "</p>\n",
       "<p>\n",
       "  If you're reading this message in another frontend (for example, a static\n",
       "  rendering on GitHub or <a href=\"https://nbviewer.jupyter.org/\">NBViewer</a>),\n",
       "  it may mean that your frontend doesn't currently support widgets.\n",
       "</p>\n"
      ],
      "text/plain": [
       "HBox(children=(IntProgress(value=0, max=3614), HTML(value='')))"
      ]
     },
     "metadata": {},
     "output_type": "display_data"
    },
    {
     "name": "stdout",
     "output_type": "stream",
     "text": [
      "\n",
      "Words:  182159\n"
     ]
    }
   ],
   "source": [
    "changed = change_book(open(prefix + 'Jane Austen___Northanger Abbey.txt').read(), get_corpus('Sir Arthur Conan Doyle'))\n",
    "write_file('Northanger_Abbey_x_Doyle_with_translation', \"Sir Arthur Conan Doyle's Northanger Abbey\")"
   ]
  },
  {
   "cell_type": "code",
   "execution_count": 45,
   "metadata": {},
   "outputs": [
    {
     "name": "stdout",
     "output_type": "stream",
     "text": [
      "Total tokens in dataset 3615\n",
      "Total tokens in dataset 54092\n",
      "Found 32402(/35548) words with w2v vectors\n",
      "Vocab size : 32402\n",
      "Computing pairwise cosine distances...\n"
     ]
    },
    {
     "data": {
      "application/vnd.jupyter.widget-view+json": {
       "model_id": "0c13b48c2ad741f0866c3cc5f4c7c1d8",
       "version_major": 2,
       "version_minor": 0
      },
      "text/html": [
       "<p>Failed to display Jupyter Widget of type <code>HBox</code>.</p>\n",
       "<p>\n",
       "  If you're reading this message in the Jupyter Notebook or JupyterLab Notebook, it may mean\n",
       "  that the widgets JavaScript is still loading. If this message persists, it\n",
       "  likely means that the widgets JavaScript library is either not installed or\n",
       "  not enabled. See the <a href=\"https://ipywidgets.readthedocs.io/en/stable/user_install.html\">Jupyter\n",
       "  Widgets Documentation</a> for setup instructions.\n",
       "</p>\n",
       "<p>\n",
       "  If you're reading this message in another frontend (for example, a static\n",
       "  rendering on GitHub or <a href=\"https://nbviewer.jupyter.org/\">NBViewer</a>),\n",
       "  it may mean that your frontend doesn't currently support widgets.\n",
       "</p>\n"
      ],
      "text/plain": [
       "HBox(children=(IntProgress(value=0, max=3614), HTML(value='')))"
      ]
     },
     "metadata": {},
     "output_type": "display_data"
    },
    {
     "name": "stdout",
     "output_type": "stream",
     "text": [
      "\n",
      "Words:  110828\n"
     ]
    }
   ],
   "source": [
    "changed = change_book(open(prefix + 'Jane Austen___Northanger Abbey.txt').read(), get_corpus('Sir Arthur Conan Doyle'), withTranslation=False)\n",
    "write_file('Northanger_Abbey_x_Doyle', \"Sir Arthur Conan Doyle's Northanger Abbey\", withTranslation=False)"
   ]
  },
  {
   "cell_type": "code",
   "execution_count": 44,
   "metadata": {},
   "outputs": [
    {
     "name": "stdout",
     "output_type": "stream",
     "text": [
      "Sample:\n",
      " \n",
      "\n",
      " A celebrated Psychic, Mrs. Piper, uttered, in the year 1899 words which were recorded by Dr. Hodgson at the time. This I concealed where no one has ever discovered it; but my fears would not allow me to go back for the other, as I might perhaps have done, had I foreseen how terribly its presence might tell against my master. Still, I could not see what harm could come to me by complying with his request, and certainly I could not have devised any arrangement which would give me such an opportunity of satisfying my curiosity. It was indeed this attitude upon the part of my friend and certainly not any lack of interesting material which has caused me of late years to lay very few of my records before the public. These treats were, however, rare events, and made such a mark upon my mind, that when I was sixteen years of age I could have checked off upon my fingers all that I had ever seen. \n",
      "\n",
      " Everything which the girl said seemed to be meant as an insult to me, and yet I could not imagine how I had ever offended her. Her whole life was a round of devotion and of love, which was divided between her husband and her only son, Harold. \"You must know, Sir Charles, that though my son knew nothing of his parents, we were both alive, and had never lost sight of him. Now that they had not only ceased to protect him, but had themselves become a source of trouble to him, he began to understand how great the blessing was which he had enjoyed, and to sigh for the happy days before his girls had come under the influence of his neighbor. In her pure and earnest mind her mother's memory was enshrined as that of a saint, and the thought that any one should take her place seemed a terrible desecration. He was married to the second daughter of Sir James Ovington; and as I have seen three of his grandchildren within the week, I fancy that if any of Sir Lothian's descendants have their eye upon the property, they are likely to be as disappointed as their ancestor was before them. \n",
      "\n",
      " \"I have already explained to our young friend here,\" said Challenger (he has a way of alluding to me as if I were a school child ten years old), \"that it is quite impossible that there should be an easy way up anywhere, for the simple reason that if there were the summit would not be isolated, and those conditions would not obtain which have effected so singular an interference with the general laws of survival. Her face had neither regularity of feature nor beauty of complexion, but her expression was sweet and amiable, and her large blue eyes were singularly spiritual and sympathetic. \n",
      "\n",
      " \n",
      "\n",
      " SHAKESPEARE'S EXPOSTULATION -LSB- 101 -RSB- \n",
      "\n",
      " Masters, I sleep not quiet in my grave, There where they laid me, by the Avon shore, In that some crazy wights have set it forth By arguments most false and fanciful, Analogy and far-drawn inference, That Francis Bacon, Earl of Verulam (A man whom I remember in old days, A learned judge with sly adhesive palms, To which the suitor's gold was wont to stick) -- That this same Verulam had writ the plays Which were the fancies of my frolic brain. There was no sound in the woods -- not a leaf moved upon the trees, and all was peace around us -- but we should have been warned by our first experience how cunningly and how patiently these creatures can watch and wait until their chance comes. Now her spirit seemed very near him, and his own was tempered by its presence. I never said anything, and I tried not to make myself ridiculous. My mother lived for five years after my father's disappearance, although at the time all the doctors said that she could not survive long. \"If it were not for our great ancestors and for our beloved country, the Queen of the Waters,\" said he, \"I could find it in my heart to be glad at this destruction which has come upon this vain and feeble generation. How spirits may see things in a different light as they progress in the other world is shown by Miss Julia Ames, who was deeply impressed at first by the necessity of forming a bureau of communication, but admitted, after fifteen years, that not one spirit in a million among the main body upon the further side ever wanted to communicate with us at all since their own loved ones had come over. Her mother, despairing of preserving her sight, and being not of ability to send her to London to be touched by the king, being miserably poor, having many poor children, and this girl not being able to work, her mother, desirous to have her daughter cured, sent to the chirurgeons for help, who tampered with it for some time, but could do no good. You'll understand that I really do love you when I tell you that, if it were not that I knew you were frightened and unhappy, these last two days in which we have been always together would have been infinitely the happiest of my life.\" In the presence of an agonized world, hearing every day of the deaths of the flower of our race in the first promise of their unfulfilled youth, seeing around one the wives and m\n"
     ]
    }
   ],
   "source": [
    "print('Sample:\\n', changed[:5000])"
   ]
  },
  {
   "cell_type": "code",
   "execution_count": null,
   "metadata": {},
   "outputs": [],
   "source": []
  }
 ],
 "metadata": {
  "kernelspec": {
   "display_name": "Python 3",
   "language": "python",
   "name": "python3"
  },
  "language_info": {
   "codemirror_mode": {
    "name": "ipython",
    "version": 3
   },
   "file_extension": ".py",
   "mimetype": "text/x-python",
   "name": "python",
   "nbconvert_exporter": "python",
   "pygments_lexer": "ipython3",
   "version": "3.6.6"
  }
 },
 "nbformat": 4,
 "nbformat_minor": 2
}
